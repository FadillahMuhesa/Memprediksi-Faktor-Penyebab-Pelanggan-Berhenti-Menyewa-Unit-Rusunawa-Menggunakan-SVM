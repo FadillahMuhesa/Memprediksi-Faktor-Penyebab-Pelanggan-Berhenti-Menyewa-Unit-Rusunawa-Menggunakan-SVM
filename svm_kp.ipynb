{
  "cells": [
    {
      "cell_type": "markdown",
      "metadata": {
        "id": "view-in-github",
        "colab_type": "text"
      },
      "source": [
        "<a href=\"https://colab.research.google.com/github/FadillahMuhesa/Memprediksi-Faktor-Penyebab-Pelanggan-Berhenti-Menyewa-Unit-Rusunawa-Menggunakan-SVM/blob/main/svm_kp.ipynb\" target=\"_parent\"><img src=\"https://colab.research.google.com/assets/colab-badge.svg\" alt=\"Open In Colab\"/></a>"
      ]
    },
    {
      "cell_type": "markdown",
      "metadata": {
        "id": "IvkME0wXqKjS"
      },
      "source": [
        "### **Import Library**"
      ]
    },
    {
      "cell_type": "code",
      "execution_count": null,
      "metadata": {
        "id": "aYib5srcqVe6"
      },
      "outputs": [],
      "source": [
        "import numpy as np\n",
        "import pandas as pd\n",
        "from sklearn.model_selection import train_test_split\n",
        "from sklearn.datasets import load_iris\n",
        "from sklearn.tree import DecisionTreeClassifier\n",
        "from sklearn import preprocessing\n",
        "from sklearn import datasets ## Get dataset from sklearn\n",
        "import sklearn.model_selection as ms\n",
        "import sklearn.metrics as sklm\n",
        "import matplotlib.pyplot as plt\n",
        "import numpy.random as nr\n",
        "import seaborn as sns\n",
        "from sklearn.metrics import accuracy_score, f1_score, classification_report, confusion_matrix, recall_score, precision_score\n",
        "from sklearn.preprocessing import StandardScaler\n",
        "from sklearn.model_selection import train_test_split\n",
        "from sklearn.preprocessing import MinMaxScaler, PowerTransformer\n",
        "from sklearn.model_selection import cross_val_score\n",
        "from sklearn.preprocessing import LabelEncoder, OneHotEncoder\n",
        "from sklearn.svm import SVC\n",
        "\n",
        "%matplotlib inline"
      ]
    },
    {
      "cell_type": "markdown",
      "metadata": {
        "id": "GouLY_kwqy7o"
      },
      "source": [
        "### **Data Undertanding(Mendefinisikan Data)**"
      ]
    },
    {
      "cell_type": "code",
      "execution_count": null,
      "metadata": {
        "colab": {
          "base_uri": "https://localhost:8080/",
          "height": 1000
        },
        "id": "JW3sHeoIqhOj",
        "outputId": "b6b6dab4-d7d4-41a5-8c53-855afeedb879"
      },
      "outputs": [
        {
          "output_type": "execute_result",
          "data": {
            "text/plain": [
              "        NO                 NAMA  NO UNIT  GENDER  UMUR  JUMLAH ANGGOTA  \\\n",
              "0        1               MASNAH        1  WANITA    30               3   \n",
              "1        2              SUSANTO        9    PRIA    38               3   \n",
              "2        3               BACHRI        3    PRIA    28               2   \n",
              "3        4  NIKO HENDRI PERMANA       58    PRIA    43               4   \n",
              "4        5              SUMARNO       70    PRIA    39               3   \n",
              "...    ...                  ...      ...     ...   ...             ...   \n",
              "1379  1380             HARYANTO       30    PRIA    35               2   \n",
              "1380  1381              MAULANA       66    PRIA    30               4   \n",
              "1381  1382               ARYADI       18    PRIA    32               2   \n",
              "1382  1383              ROMIWAN       75    PRIA    36               2   \n",
              "1383  1384         TUTI OKTAVIA       97  WANITA    28               3   \n",
              "\n",
              "                 ASAL        PEKERJAAN  PENGHASILAN    NO.STS  ...  \\\n",
              "0      Bandar Lampung       Wiraswasta       450000  01/01/23  ...   \n",
              "1      Bandar Lampung            Buruh       340000  01/01/23  ...   \n",
              "2      lampung tengah            Buruh       650000  01/01/23  ...   \n",
              "3      Bandar Lampung            Buruh       652000  01/01/23  ...   \n",
              "4     Lampung Selatan  Sopir/Pengemudi       590000  01/01/23  ...   \n",
              "...               ...              ...          ...       ...  ...   \n",
              "1379   Bandar Lampung  Sopir/Pengemudi       950000  31/08/23  ...   \n",
              "1380    Lampung Timur  Sopir/Pengemudi       815000  31/08/23  ...   \n",
              "1381  Lampung Selatan         Pedagang       650000  31/08/23  ...   \n",
              "1382    Lampung Timur            Buruh       400000  31/08/23  ...   \n",
              "1383   Bandar Lampung         Pedagang       600000  31/08/23  ...   \n",
              "\n",
              "     PEMBAYARAAN BULAN NOMINAL RUPIAH  KETERANGAN PEMBAYARAN DaysLate  \\\n",
              "0             DESEMBER       Rp153,00              Menunggak       30   \n",
              "1             DESEMBER       Rp153,00              Menunggak       30   \n",
              "2             DESEMBER       Rp153,00              Menunggak       30   \n",
              "3             DESEMBER       Rp153,00              Menunggak       30   \n",
              "4             DESEMBER       Rp153,00              Menunggak       30   \n",
              "...                ...            ...                    ...      ...   \n",
              "1379           AGUSTUS       Rp150,00            Tepat Waktu        0   \n",
              "1380           AGUSTUS       Rp150,00            Tepat Waktu        0   \n",
              "1381           AGUSTUS       Rp150,00            Tepat Waktu        0   \n",
              "1382           AGUSTUS       Rp150,00            Tepat Waktu        0   \n",
              "1383           AGUSTUS       Rp150,00            Tepat Waktu        0   \n",
              "\n",
              "                                                 ALAMAT     SUMBER  \\\n",
              "0     JL. RE. Martadinata Rumah Susun Lk.II Rt.009 K...  RETRIBUSI   \n",
              "1     JL. RE. Martadinata Rumah Susun Lk.II Rt.009 K...  RETRIBUSI   \n",
              "2     JL. RE. Martadinata Rumah Susun Lk.II Rt.009 K...  RETRIBUSI   \n",
              "3     Jl. KP. Garuntang Lk. II Rt.002 Kel. Ketapang ...  RETRIBUSI   \n",
              "4     Jl. KP. Garuntang Lk. II Rt.002 Kel. Ketapang ...  RETRIBUSI   \n",
              "...                                                 ...        ...   \n",
              "1379  Jln. Hi. Sulaiman 2, Komplek Rusunawa Keteguha...  RETRIBUSI   \n",
              "1380  Jln. Hi. Sulaiman 2, Komplek Rusunawa Keteguha...  RETRIBUSI   \n",
              "1381  Jln. Hi. Sulaiman 2, Komplek Rusunawa Keteguha...  RETRIBUSI   \n",
              "1382  Jln. Hi. Sulaiman 2, Komplek Rusunawa Keteguha...  RETRIBUSI   \n",
              "1383  Jln. Hi. Sulaiman 2, Komplek Rusunawa Keteguha...  RETRIBUSI   \n",
              "\n",
              "     TAHUN PAJAK BULAN PAJAK                  METODE  CHURN  \n",
              "0           2023     JANUARI  tagihan tidak langsung      0  \n",
              "1           2023     JANUARI  tagihan tidak langsung      0  \n",
              "2           2023     JANUARI  tagihan tidak langsung      0  \n",
              "3           2023     JANUARI  tagihan tidak langsung      0  \n",
              "4           2023     JANUARI        tagihan langsung      0  \n",
              "...          ...         ...                     ...    ...  \n",
              "1379        2023     AGUSTUS        tagihan langsung      0  \n",
              "1380        2023     AGUSTUS  tagihan tidak langsung      0  \n",
              "1381        2023     AGUSTUS  tagihan tidak langsung      0  \n",
              "1382        2023     AGUSTUS        tagihan langsung      0  \n",
              "1383        2023     AGUSTUS        tagihan langsung      0  \n",
              "\n",
              "[1384 rows x 26 columns]"
            ],
            "text/html": [
              "\n",
              "  <div id=\"df-da4294b1-bccd-4a1a-bda0-f2b2cfc89141\" class=\"colab-df-container\">\n",
              "    <div>\n",
              "<style scoped>\n",
              "    .dataframe tbody tr th:only-of-type {\n",
              "        vertical-align: middle;\n",
              "    }\n",
              "\n",
              "    .dataframe tbody tr th {\n",
              "        vertical-align: top;\n",
              "    }\n",
              "\n",
              "    .dataframe thead th {\n",
              "        text-align: right;\n",
              "    }\n",
              "</style>\n",
              "<table border=\"1\" class=\"dataframe\">\n",
              "  <thead>\n",
              "    <tr style=\"text-align: right;\">\n",
              "      <th></th>\n",
              "      <th>NO</th>\n",
              "      <th>NAMA</th>\n",
              "      <th>NO UNIT</th>\n",
              "      <th>GENDER</th>\n",
              "      <th>UMUR</th>\n",
              "      <th>JUMLAH ANGGOTA</th>\n",
              "      <th>ASAL</th>\n",
              "      <th>PEKERJAAN</th>\n",
              "      <th>PENGHASILAN</th>\n",
              "      <th>NO.STS</th>\n",
              "      <th>...</th>\n",
              "      <th>PEMBAYARAAN BULAN</th>\n",
              "      <th>NOMINAL RUPIAH</th>\n",
              "      <th>KETERANGAN PEMBAYARAN</th>\n",
              "      <th>DaysLate</th>\n",
              "      <th>ALAMAT</th>\n",
              "      <th>SUMBER</th>\n",
              "      <th>TAHUN PAJAK</th>\n",
              "      <th>BULAN PAJAK</th>\n",
              "      <th>METODE</th>\n",
              "      <th>CHURN</th>\n",
              "    </tr>\n",
              "  </thead>\n",
              "  <tbody>\n",
              "    <tr>\n",
              "      <th>0</th>\n",
              "      <td>1</td>\n",
              "      <td>MASNAH</td>\n",
              "      <td>1</td>\n",
              "      <td>WANITA</td>\n",
              "      <td>30</td>\n",
              "      <td>3</td>\n",
              "      <td>Bandar Lampung</td>\n",
              "      <td>Wiraswasta</td>\n",
              "      <td>450000</td>\n",
              "      <td>01/01/23</td>\n",
              "      <td>...</td>\n",
              "      <td>DESEMBER</td>\n",
              "      <td>Rp153,00</td>\n",
              "      <td>Menunggak</td>\n",
              "      <td>30</td>\n",
              "      <td>JL. RE. Martadinata Rumah Susun Lk.II Rt.009 K...</td>\n",
              "      <td>RETRIBUSI</td>\n",
              "      <td>2023</td>\n",
              "      <td>JANUARI</td>\n",
              "      <td>tagihan tidak langsung</td>\n",
              "      <td>0</td>\n",
              "    </tr>\n",
              "    <tr>\n",
              "      <th>1</th>\n",
              "      <td>2</td>\n",
              "      <td>SUSANTO</td>\n",
              "      <td>9</td>\n",
              "      <td>PRIA</td>\n",
              "      <td>38</td>\n",
              "      <td>3</td>\n",
              "      <td>Bandar Lampung</td>\n",
              "      <td>Buruh</td>\n",
              "      <td>340000</td>\n",
              "      <td>01/01/23</td>\n",
              "      <td>...</td>\n",
              "      <td>DESEMBER</td>\n",
              "      <td>Rp153,00</td>\n",
              "      <td>Menunggak</td>\n",
              "      <td>30</td>\n",
              "      <td>JL. RE. Martadinata Rumah Susun Lk.II Rt.009 K...</td>\n",
              "      <td>RETRIBUSI</td>\n",
              "      <td>2023</td>\n",
              "      <td>JANUARI</td>\n",
              "      <td>tagihan tidak langsung</td>\n",
              "      <td>0</td>\n",
              "    </tr>\n",
              "    <tr>\n",
              "      <th>2</th>\n",
              "      <td>3</td>\n",
              "      <td>BACHRI</td>\n",
              "      <td>3</td>\n",
              "      <td>PRIA</td>\n",
              "      <td>28</td>\n",
              "      <td>2</td>\n",
              "      <td>lampung tengah</td>\n",
              "      <td>Buruh</td>\n",
              "      <td>650000</td>\n",
              "      <td>01/01/23</td>\n",
              "      <td>...</td>\n",
              "      <td>DESEMBER</td>\n",
              "      <td>Rp153,00</td>\n",
              "      <td>Menunggak</td>\n",
              "      <td>30</td>\n",
              "      <td>JL. RE. Martadinata Rumah Susun Lk.II Rt.009 K...</td>\n",
              "      <td>RETRIBUSI</td>\n",
              "      <td>2023</td>\n",
              "      <td>JANUARI</td>\n",
              "      <td>tagihan tidak langsung</td>\n",
              "      <td>0</td>\n",
              "    </tr>\n",
              "    <tr>\n",
              "      <th>3</th>\n",
              "      <td>4</td>\n",
              "      <td>NIKO HENDRI PERMANA</td>\n",
              "      <td>58</td>\n",
              "      <td>PRIA</td>\n",
              "      <td>43</td>\n",
              "      <td>4</td>\n",
              "      <td>Bandar Lampung</td>\n",
              "      <td>Buruh</td>\n",
              "      <td>652000</td>\n",
              "      <td>01/01/23</td>\n",
              "      <td>...</td>\n",
              "      <td>DESEMBER</td>\n",
              "      <td>Rp153,00</td>\n",
              "      <td>Menunggak</td>\n",
              "      <td>30</td>\n",
              "      <td>Jl. KP. Garuntang Lk. II Rt.002 Kel. Ketapang ...</td>\n",
              "      <td>RETRIBUSI</td>\n",
              "      <td>2023</td>\n",
              "      <td>JANUARI</td>\n",
              "      <td>tagihan tidak langsung</td>\n",
              "      <td>0</td>\n",
              "    </tr>\n",
              "    <tr>\n",
              "      <th>4</th>\n",
              "      <td>5</td>\n",
              "      <td>SUMARNO</td>\n",
              "      <td>70</td>\n",
              "      <td>PRIA</td>\n",
              "      <td>39</td>\n",
              "      <td>3</td>\n",
              "      <td>Lampung Selatan</td>\n",
              "      <td>Sopir/Pengemudi</td>\n",
              "      <td>590000</td>\n",
              "      <td>01/01/23</td>\n",
              "      <td>...</td>\n",
              "      <td>DESEMBER</td>\n",
              "      <td>Rp153,00</td>\n",
              "      <td>Menunggak</td>\n",
              "      <td>30</td>\n",
              "      <td>Jl. KP. Garuntang Lk. II Rt.002 Kel. Ketapang ...</td>\n",
              "      <td>RETRIBUSI</td>\n",
              "      <td>2023</td>\n",
              "      <td>JANUARI</td>\n",
              "      <td>tagihan langsung</td>\n",
              "      <td>0</td>\n",
              "    </tr>\n",
              "    <tr>\n",
              "      <th>...</th>\n",
              "      <td>...</td>\n",
              "      <td>...</td>\n",
              "      <td>...</td>\n",
              "      <td>...</td>\n",
              "      <td>...</td>\n",
              "      <td>...</td>\n",
              "      <td>...</td>\n",
              "      <td>...</td>\n",
              "      <td>...</td>\n",
              "      <td>...</td>\n",
              "      <td>...</td>\n",
              "      <td>...</td>\n",
              "      <td>...</td>\n",
              "      <td>...</td>\n",
              "      <td>...</td>\n",
              "      <td>...</td>\n",
              "      <td>...</td>\n",
              "      <td>...</td>\n",
              "      <td>...</td>\n",
              "      <td>...</td>\n",
              "      <td>...</td>\n",
              "    </tr>\n",
              "    <tr>\n",
              "      <th>1379</th>\n",
              "      <td>1380</td>\n",
              "      <td>HARYANTO</td>\n",
              "      <td>30</td>\n",
              "      <td>PRIA</td>\n",
              "      <td>35</td>\n",
              "      <td>2</td>\n",
              "      <td>Bandar Lampung</td>\n",
              "      <td>Sopir/Pengemudi</td>\n",
              "      <td>950000</td>\n",
              "      <td>31/08/23</td>\n",
              "      <td>...</td>\n",
              "      <td>AGUSTUS</td>\n",
              "      <td>Rp150,00</td>\n",
              "      <td>Tepat Waktu</td>\n",
              "      <td>0</td>\n",
              "      <td>Jln. Hi. Sulaiman 2, Komplek Rusunawa Keteguha...</td>\n",
              "      <td>RETRIBUSI</td>\n",
              "      <td>2023</td>\n",
              "      <td>AGUSTUS</td>\n",
              "      <td>tagihan langsung</td>\n",
              "      <td>0</td>\n",
              "    </tr>\n",
              "    <tr>\n",
              "      <th>1380</th>\n",
              "      <td>1381</td>\n",
              "      <td>MAULANA</td>\n",
              "      <td>66</td>\n",
              "      <td>PRIA</td>\n",
              "      <td>30</td>\n",
              "      <td>4</td>\n",
              "      <td>Lampung Timur</td>\n",
              "      <td>Sopir/Pengemudi</td>\n",
              "      <td>815000</td>\n",
              "      <td>31/08/23</td>\n",
              "      <td>...</td>\n",
              "      <td>AGUSTUS</td>\n",
              "      <td>Rp150,00</td>\n",
              "      <td>Tepat Waktu</td>\n",
              "      <td>0</td>\n",
              "      <td>Jln. Hi. Sulaiman 2, Komplek Rusunawa Keteguha...</td>\n",
              "      <td>RETRIBUSI</td>\n",
              "      <td>2023</td>\n",
              "      <td>AGUSTUS</td>\n",
              "      <td>tagihan tidak langsung</td>\n",
              "      <td>0</td>\n",
              "    </tr>\n",
              "    <tr>\n",
              "      <th>1381</th>\n",
              "      <td>1382</td>\n",
              "      <td>ARYADI</td>\n",
              "      <td>18</td>\n",
              "      <td>PRIA</td>\n",
              "      <td>32</td>\n",
              "      <td>2</td>\n",
              "      <td>Lampung Selatan</td>\n",
              "      <td>Pedagang</td>\n",
              "      <td>650000</td>\n",
              "      <td>31/08/23</td>\n",
              "      <td>...</td>\n",
              "      <td>AGUSTUS</td>\n",
              "      <td>Rp150,00</td>\n",
              "      <td>Tepat Waktu</td>\n",
              "      <td>0</td>\n",
              "      <td>Jln. Hi. Sulaiman 2, Komplek Rusunawa Keteguha...</td>\n",
              "      <td>RETRIBUSI</td>\n",
              "      <td>2023</td>\n",
              "      <td>AGUSTUS</td>\n",
              "      <td>tagihan tidak langsung</td>\n",
              "      <td>0</td>\n",
              "    </tr>\n",
              "    <tr>\n",
              "      <th>1382</th>\n",
              "      <td>1383</td>\n",
              "      <td>ROMIWAN</td>\n",
              "      <td>75</td>\n",
              "      <td>PRIA</td>\n",
              "      <td>36</td>\n",
              "      <td>2</td>\n",
              "      <td>Lampung Timur</td>\n",
              "      <td>Buruh</td>\n",
              "      <td>400000</td>\n",
              "      <td>31/08/23</td>\n",
              "      <td>...</td>\n",
              "      <td>AGUSTUS</td>\n",
              "      <td>Rp150,00</td>\n",
              "      <td>Tepat Waktu</td>\n",
              "      <td>0</td>\n",
              "      <td>Jln. Hi. Sulaiman 2, Komplek Rusunawa Keteguha...</td>\n",
              "      <td>RETRIBUSI</td>\n",
              "      <td>2023</td>\n",
              "      <td>AGUSTUS</td>\n",
              "      <td>tagihan langsung</td>\n",
              "      <td>0</td>\n",
              "    </tr>\n",
              "    <tr>\n",
              "      <th>1383</th>\n",
              "      <td>1384</td>\n",
              "      <td>TUTI OKTAVIA</td>\n",
              "      <td>97</td>\n",
              "      <td>WANITA</td>\n",
              "      <td>28</td>\n",
              "      <td>3</td>\n",
              "      <td>Bandar Lampung</td>\n",
              "      <td>Pedagang</td>\n",
              "      <td>600000</td>\n",
              "      <td>31/08/23</td>\n",
              "      <td>...</td>\n",
              "      <td>AGUSTUS</td>\n",
              "      <td>Rp150,00</td>\n",
              "      <td>Tepat Waktu</td>\n",
              "      <td>0</td>\n",
              "      <td>Jln. Hi. Sulaiman 2, Komplek Rusunawa Keteguha...</td>\n",
              "      <td>RETRIBUSI</td>\n",
              "      <td>2023</td>\n",
              "      <td>AGUSTUS</td>\n",
              "      <td>tagihan langsung</td>\n",
              "      <td>0</td>\n",
              "    </tr>\n",
              "  </tbody>\n",
              "</table>\n",
              "<p>1384 rows × 26 columns</p>\n",
              "</div>\n",
              "    <div class=\"colab-df-buttons\">\n",
              "\n",
              "  <div class=\"colab-df-container\">\n",
              "    <button class=\"colab-df-convert\" onclick=\"convertToInteractive('df-da4294b1-bccd-4a1a-bda0-f2b2cfc89141')\"\n",
              "            title=\"Convert this dataframe to an interactive table.\"\n",
              "            style=\"display:none;\">\n",
              "\n",
              "  <svg xmlns=\"http://www.w3.org/2000/svg\" height=\"24px\" viewBox=\"0 -960 960 960\">\n",
              "    <path d=\"M120-120v-720h720v720H120Zm60-500h600v-160H180v160Zm220 220h160v-160H400v160Zm0 220h160v-160H400v160ZM180-400h160v-160H180v160Zm440 0h160v-160H620v160ZM180-180h160v-160H180v160Zm440 0h160v-160H620v160Z\"/>\n",
              "  </svg>\n",
              "    </button>\n",
              "\n",
              "  <style>\n",
              "    .colab-df-container {\n",
              "      display:flex;\n",
              "      gap: 12px;\n",
              "    }\n",
              "\n",
              "    .colab-df-convert {\n",
              "      background-color: #E8F0FE;\n",
              "      border: none;\n",
              "      border-radius: 50%;\n",
              "      cursor: pointer;\n",
              "      display: none;\n",
              "      fill: #1967D2;\n",
              "      height: 32px;\n",
              "      padding: 0 0 0 0;\n",
              "      width: 32px;\n",
              "    }\n",
              "\n",
              "    .colab-df-convert:hover {\n",
              "      background-color: #E2EBFA;\n",
              "      box-shadow: 0px 1px 2px rgba(60, 64, 67, 0.3), 0px 1px 3px 1px rgba(60, 64, 67, 0.15);\n",
              "      fill: #174EA6;\n",
              "    }\n",
              "\n",
              "    .colab-df-buttons div {\n",
              "      margin-bottom: 4px;\n",
              "    }\n",
              "\n",
              "    [theme=dark] .colab-df-convert {\n",
              "      background-color: #3B4455;\n",
              "      fill: #D2E3FC;\n",
              "    }\n",
              "\n",
              "    [theme=dark] .colab-df-convert:hover {\n",
              "      background-color: #434B5C;\n",
              "      box-shadow: 0px 1px 3px 1px rgba(0, 0, 0, 0.15);\n",
              "      filter: drop-shadow(0px 1px 2px rgba(0, 0, 0, 0.3));\n",
              "      fill: #FFFFFF;\n",
              "    }\n",
              "  </style>\n",
              "\n",
              "    <script>\n",
              "      const buttonEl =\n",
              "        document.querySelector('#df-da4294b1-bccd-4a1a-bda0-f2b2cfc89141 button.colab-df-convert');\n",
              "      buttonEl.style.display =\n",
              "        google.colab.kernel.accessAllowed ? 'block' : 'none';\n",
              "\n",
              "      async function convertToInteractive(key) {\n",
              "        const element = document.querySelector('#df-da4294b1-bccd-4a1a-bda0-f2b2cfc89141');\n",
              "        const dataTable =\n",
              "          await google.colab.kernel.invokeFunction('convertToInteractive',\n",
              "                                                    [key], {});\n",
              "        if (!dataTable) return;\n",
              "\n",
              "        const docLinkHtml = 'Like what you see? Visit the ' +\n",
              "          '<a target=\"_blank\" href=https://colab.research.google.com/notebooks/data_table.ipynb>data table notebook</a>'\n",
              "          + ' to learn more about interactive tables.';\n",
              "        element.innerHTML = '';\n",
              "        dataTable['output_type'] = 'display_data';\n",
              "        await google.colab.output.renderOutput(dataTable, element);\n",
              "        const docLink = document.createElement('div');\n",
              "        docLink.innerHTML = docLinkHtml;\n",
              "        element.appendChild(docLink);\n",
              "      }\n",
              "    </script>\n",
              "  </div>\n",
              "\n",
              "\n",
              "<div id=\"df-f3e790f1-db73-4fec-9b49-8172ed4c1cde\">\n",
              "  <button class=\"colab-df-quickchart\" onclick=\"quickchart('df-f3e790f1-db73-4fec-9b49-8172ed4c1cde')\"\n",
              "            title=\"Suggest charts.\"\n",
              "            style=\"display:none;\">\n",
              "\n",
              "<svg xmlns=\"http://www.w3.org/2000/svg\" height=\"24px\"viewBox=\"0 0 24 24\"\n",
              "     width=\"24px\">\n",
              "    <g>\n",
              "        <path d=\"M19 3H5c-1.1 0-2 .9-2 2v14c0 1.1.9 2 2 2h14c1.1 0 2-.9 2-2V5c0-1.1-.9-2-2-2zM9 17H7v-7h2v7zm4 0h-2V7h2v10zm4 0h-2v-4h2v4z\"/>\n",
              "    </g>\n",
              "</svg>\n",
              "  </button>\n",
              "\n",
              "<style>\n",
              "  .colab-df-quickchart {\n",
              "      --bg-color: #E8F0FE;\n",
              "      --fill-color: #1967D2;\n",
              "      --hover-bg-color: #E2EBFA;\n",
              "      --hover-fill-color: #174EA6;\n",
              "      --disabled-fill-color: #AAA;\n",
              "      --disabled-bg-color: #DDD;\n",
              "  }\n",
              "\n",
              "  [theme=dark] .colab-df-quickchart {\n",
              "      --bg-color: #3B4455;\n",
              "      --fill-color: #D2E3FC;\n",
              "      --hover-bg-color: #434B5C;\n",
              "      --hover-fill-color: #FFFFFF;\n",
              "      --disabled-bg-color: #3B4455;\n",
              "      --disabled-fill-color: #666;\n",
              "  }\n",
              "\n",
              "  .colab-df-quickchart {\n",
              "    background-color: var(--bg-color);\n",
              "    border: none;\n",
              "    border-radius: 50%;\n",
              "    cursor: pointer;\n",
              "    display: none;\n",
              "    fill: var(--fill-color);\n",
              "    height: 32px;\n",
              "    padding: 0;\n",
              "    width: 32px;\n",
              "  }\n",
              "\n",
              "  .colab-df-quickchart:hover {\n",
              "    background-color: var(--hover-bg-color);\n",
              "    box-shadow: 0 1px 2px rgba(60, 64, 67, 0.3), 0 1px 3px 1px rgba(60, 64, 67, 0.15);\n",
              "    fill: var(--button-hover-fill-color);\n",
              "  }\n",
              "\n",
              "  .colab-df-quickchart-complete:disabled,\n",
              "  .colab-df-quickchart-complete:disabled:hover {\n",
              "    background-color: var(--disabled-bg-color);\n",
              "    fill: var(--disabled-fill-color);\n",
              "    box-shadow: none;\n",
              "  }\n",
              "\n",
              "  .colab-df-spinner {\n",
              "    border: 2px solid var(--fill-color);\n",
              "    border-color: transparent;\n",
              "    border-bottom-color: var(--fill-color);\n",
              "    animation:\n",
              "      spin 1s steps(1) infinite;\n",
              "  }\n",
              "\n",
              "  @keyframes spin {\n",
              "    0% {\n",
              "      border-color: transparent;\n",
              "      border-bottom-color: var(--fill-color);\n",
              "      border-left-color: var(--fill-color);\n",
              "    }\n",
              "    20% {\n",
              "      border-color: transparent;\n",
              "      border-left-color: var(--fill-color);\n",
              "      border-top-color: var(--fill-color);\n",
              "    }\n",
              "    30% {\n",
              "      border-color: transparent;\n",
              "      border-left-color: var(--fill-color);\n",
              "      border-top-color: var(--fill-color);\n",
              "      border-right-color: var(--fill-color);\n",
              "    }\n",
              "    40% {\n",
              "      border-color: transparent;\n",
              "      border-right-color: var(--fill-color);\n",
              "      border-top-color: var(--fill-color);\n",
              "    }\n",
              "    60% {\n",
              "      border-color: transparent;\n",
              "      border-right-color: var(--fill-color);\n",
              "    }\n",
              "    80% {\n",
              "      border-color: transparent;\n",
              "      border-right-color: var(--fill-color);\n",
              "      border-bottom-color: var(--fill-color);\n",
              "    }\n",
              "    90% {\n",
              "      border-color: transparent;\n",
              "      border-bottom-color: var(--fill-color);\n",
              "    }\n",
              "  }\n",
              "</style>\n",
              "\n",
              "  <script>\n",
              "    async function quickchart(key) {\n",
              "      const quickchartButtonEl =\n",
              "        document.querySelector('#' + key + ' button');\n",
              "      quickchartButtonEl.disabled = true;  // To prevent multiple clicks.\n",
              "      quickchartButtonEl.classList.add('colab-df-spinner');\n",
              "      try {\n",
              "        const charts = await google.colab.kernel.invokeFunction(\n",
              "            'suggestCharts', [key], {});\n",
              "      } catch (error) {\n",
              "        console.error('Error during call to suggestCharts:', error);\n",
              "      }\n",
              "      quickchartButtonEl.classList.remove('colab-df-spinner');\n",
              "      quickchartButtonEl.classList.add('colab-df-quickchart-complete');\n",
              "    }\n",
              "    (() => {\n",
              "      let quickchartButtonEl =\n",
              "        document.querySelector('#df-f3e790f1-db73-4fec-9b49-8172ed4c1cde button');\n",
              "      quickchartButtonEl.style.display =\n",
              "        google.colab.kernel.accessAllowed ? 'block' : 'none';\n",
              "    })();\n",
              "  </script>\n",
              "</div>\n",
              "    </div>\n",
              "  </div>\n"
            ]
          },
          "metadata": {},
          "execution_count": 3
        }
      ],
      "source": [
        "data = pd.read_csv('kp.csv')\n",
        "data"
      ]
    },
    {
      "cell_type": "code",
      "execution_count": null,
      "metadata": {
        "colab": {
          "base_uri": "https://localhost:8080/"
        },
        "id": "g9AO5Nj8q9PX",
        "outputId": "ec72c66e-9079-4b2f-c4c5-7c038100a1df"
      },
      "outputs": [
        {
          "output_type": "execute_result",
          "data": {
            "text/plain": [
              "(1384, 26)"
            ]
          },
          "metadata": {},
          "execution_count": 4
        }
      ],
      "source": [
        "data.shape"
      ]
    },
    {
      "cell_type": "markdown",
      "metadata": {
        "id": "EH572brLN7Hq"
      },
      "source": [
        "## **Data Preprocessing**\n",
        "\n",
        "###Proses yang dilakukan\n",
        "\n",
        "1.   Menghapus Variabel yang tidak digunakan dan menyisakan variabel yang digunakan seperti: no unit, gender, umur, jumlah anggota, penghasilan, Dayslate, alamat, dan churn(keterangan masih menyewa unit atau tidak)\n",
        "2.   Mengecek missing value\n",
        "3.   Mengubah tipe data object menjadi integer"
      ]
    },
    {
      "cell_type": "code",
      "execution_count": null,
      "metadata": {
        "colab": {
          "base_uri": "https://localhost:8080/"
        },
        "id": "Ne-SC-W8OnRm",
        "outputId": "18de0fa7-0290-491a-9295-4f6667a62ff2"
      },
      "outputs": [
        {
          "output_type": "stream",
          "name": "stdout",
          "text": [
            "      GENDER  UMUR  JUMLAH ANGGOTA  PENGHASILAN  DaysLate  \\\n",
            "0     WANITA    30               3       450000        30   \n",
            "1       PRIA    38               3       340000        30   \n",
            "2       PRIA    28               2       650000        30   \n",
            "3       PRIA    43               4       652000        30   \n",
            "4       PRIA    39               3       590000        30   \n",
            "...      ...   ...             ...          ...       ...   \n",
            "1379    PRIA    35               2       950000         0   \n",
            "1380    PRIA    30               4       815000         0   \n",
            "1381    PRIA    32               2       650000         0   \n",
            "1382    PRIA    36               2       400000         0   \n",
            "1383  WANITA    28               3       600000         0   \n",
            "\n",
            "                                                 ALAMAT  CHURN  \n",
            "0     JL. RE. Martadinata Rumah Susun Lk.II Rt.009 K...      0  \n",
            "1     JL. RE. Martadinata Rumah Susun Lk.II Rt.009 K...      0  \n",
            "2     JL. RE. Martadinata Rumah Susun Lk.II Rt.009 K...      0  \n",
            "3     Jl. KP. Garuntang Lk. II Rt.002 Kel. Ketapang ...      0  \n",
            "4     Jl. KP. Garuntang Lk. II Rt.002 Kel. Ketapang ...      0  \n",
            "...                                                 ...    ...  \n",
            "1379  Jln. Hi. Sulaiman 2, Komplek Rusunawa Keteguha...      0  \n",
            "1380  Jln. Hi. Sulaiman 2, Komplek Rusunawa Keteguha...      0  \n",
            "1381  Jln. Hi. Sulaiman 2, Komplek Rusunawa Keteguha...      0  \n",
            "1382  Jln. Hi. Sulaiman 2, Komplek Rusunawa Keteguha...      0  \n",
            "1383  Jln. Hi. Sulaiman 2, Komplek Rusunawa Keteguha...      0  \n",
            "\n",
            "[1384 rows x 7 columns]\n"
          ]
        }
      ],
      "source": [
        "# Membaca dataset\n",
        "df = pd.read_csv('kp.csv')\n",
        "\n",
        "# Memilih kolom yang ingin disertakan dalam subset\n",
        "kolom_yang_disertakan = ['GENDER', 'UMUR', 'JUMLAH ANGGOTA', 'PENGHASILAN', 'DaysLate', 'ALAMAT', 'CHURN']\n",
        "data_subset = data[kolom_yang_disertakan]\n",
        "\n",
        "# Menampilkan subset data\n",
        "print(data_subset)"
      ]
    },
    {
      "cell_type": "code",
      "execution_count": null,
      "metadata": {
        "colab": {
          "base_uri": "https://localhost:8080/"
        },
        "id": "ORRX3STmEYqe",
        "outputId": "687c49be-73dd-466e-8b6c-d39cc04600c1"
      },
      "outputs": [
        {
          "output_type": "execute_result",
          "data": {
            "text/plain": [
              "(1384, 7)"
            ]
          },
          "metadata": {},
          "execution_count": 6
        }
      ],
      "source": [
        "data_subset.shape"
      ]
    },
    {
      "cell_type": "code",
      "execution_count": null,
      "metadata": {
        "colab": {
          "base_uri": "https://localhost:8080/"
        },
        "id": "8yUIdtY7rTSq",
        "outputId": "087a451f-2f16-4a17-a418-50e43f2fdad1"
      },
      "outputs": [
        {
          "output_type": "execute_result",
          "data": {
            "text/plain": [
              "GENDER            0\n",
              "UMUR              0\n",
              "JUMLAH ANGGOTA    0\n",
              "PENGHASILAN       0\n",
              "DaysLate          0\n",
              "ALAMAT            0\n",
              "CHURN             0\n",
              "dtype: int64"
            ]
          },
          "metadata": {},
          "execution_count": 7
        }
      ],
      "source": [
        "data_subset.isnull().sum()"
      ]
    },
    {
      "cell_type": "markdown",
      "metadata": {
        "id": "rFHwbAzYpbcN"
      },
      "source": [
        "isnull adalah salah satu fungsi atau metode yang digunakan dalam pemrograman untuk memeriksa apakah suatu nilai atau elemen dalam struktur data (seperti DataFrame dalam pandas di Python) terdapat nilai nol atau missing value(kosong).  dari hasil diatas, dataset yang digunakan tidak terdapat missing value."
      ]
    },
    {
      "cell_type": "markdown",
      "metadata": {
        "id": "h-qxgPsEpfSz"
      },
      "source": [
        "Mengubah Tipe Data + Encoder"
      ]
    },
    {
      "cell_type": "code",
      "execution_count": null,
      "metadata": {
        "colab": {
          "base_uri": "https://localhost:8080/"
        },
        "id": "pHSkdiUyph-T",
        "outputId": "f68a2deb-df84-4905-b0f3-c3ae5e53a634"
      },
      "outputs": [
        {
          "output_type": "stream",
          "name": "stderr",
          "text": [
            "<ipython-input-8-3ef465709fb9>:2: SettingWithCopyWarning: \n",
            "A value is trying to be set on a copy of a slice from a DataFrame.\n",
            "Try using .loc[row_indexer,col_indexer] = value instead\n",
            "\n",
            "See the caveats in the documentation: https://pandas.pydata.org/pandas-docs/stable/user_guide/indexing.html#returning-a-view-versus-a-copy\n",
            "  data_subset['ALAMAT'] = LabelEncoder().fit_transform(data_subset['ALAMAT'])\n",
            "<ipython-input-8-3ef465709fb9>:3: SettingWithCopyWarning: \n",
            "A value is trying to be set on a copy of a slice from a DataFrame.\n",
            "Try using .loc[row_indexer,col_indexer] = value instead\n",
            "\n",
            "See the caveats in the documentation: https://pandas.pydata.org/pandas-docs/stable/user_guide/indexing.html#returning-a-view-versus-a-copy\n",
            "  data_subset['GENDER'] = LabelEncoder().fit_transform(data_subset['GENDER'])\n"
          ]
        }
      ],
      "source": [
        "le=LabelEncoder()\n",
        "data_subset['ALAMAT'] = LabelEncoder().fit_transform(data_subset['ALAMAT'])\n",
        "data_subset['GENDER'] = LabelEncoder().fit_transform(data_subset['GENDER'])"
      ]
    },
    {
      "cell_type": "code",
      "execution_count": null,
      "metadata": {
        "colab": {
          "base_uri": "https://localhost:8080/"
        },
        "id": "zPcq9e7Rpk3h",
        "outputId": "6afedd37-8717-4fc8-92e7-7b470056d266"
      },
      "outputs": [
        {
          "output_type": "execute_result",
          "data": {
            "text/plain": [
              "0    1204\n",
              "1     180\n",
              "Name: GENDER, dtype: int64"
            ]
          },
          "metadata": {},
          "execution_count": 9
        }
      ],
      "source": [
        "data_subset['GENDER'].value_counts()"
      ]
    },
    {
      "cell_type": "code",
      "execution_count": null,
      "metadata": {
        "colab": {
          "base_uri": "https://localhost:8080/"
        },
        "id": "yy6GstLXpnIV",
        "outputId": "353eae54-3238-4816-c4a9-e30cad8c2157"
      },
      "outputs": [
        {
          "output_type": "execute_result",
          "data": {
            "text/plain": [
              "2    674\n",
              "1    639\n",
              "0     71\n",
              "Name: ALAMAT, dtype: int64"
            ]
          },
          "metadata": {},
          "execution_count": 10
        }
      ],
      "source": [
        "data_subset['ALAMAT'].value_counts()"
      ]
    },
    {
      "cell_type": "code",
      "execution_count": null,
      "metadata": {
        "colab": {
          "base_uri": "https://localhost:8080/"
        },
        "id": "XcY9HvWippcc",
        "outputId": "b581bdd2-7152-4be8-9927-f9035ce55ff0"
      },
      "outputs": [
        {
          "output_type": "stream",
          "name": "stdout",
          "text": [
            "Duplicated values dropped succesfully\n",
            "****************************************************************************************************\n"
          ]
        }
      ],
      "source": [
        "df = data_subset.copy()\n",
        "\n",
        "df.drop_duplicates(inplace=True)\n",
        "print(\"Duplicated values dropped succesfully\")\n",
        "print(\"*\" * 100)"
      ]
    },
    {
      "cell_type": "markdown",
      "metadata": {
        "id": "KrS1AfTjrddv"
      },
      "source": [
        "### **Exploratory Data Analysis (EDA)**"
      ]
    },
    {
      "cell_type": "code",
      "execution_count": null,
      "metadata": {
        "colab": {
          "base_uri": "https://localhost:8080/"
        },
        "id": "_1_65AfupxH8",
        "outputId": "2b3b94a9-e645-4f40-9082-a3d70f5ff35a"
      },
      "outputs": [
        {
          "output_type": "execute_result",
          "data": {
            "text/plain": [
              "(1384, 7)"
            ]
          },
          "metadata": {},
          "execution_count": 12
        }
      ],
      "source": [
        "data_subset.shape"
      ]
    },
    {
      "cell_type": "code",
      "execution_count": null,
      "metadata": {
        "colab": {
          "base_uri": "https://localhost:8080/",
          "height": 206
        },
        "id": "wJIoM2lwpvBv",
        "outputId": "60586c39-b54f-4d5d-d70a-671fb3af5a78"
      },
      "outputs": [
        {
          "output_type": "execute_result",
          "data": {
            "text/plain": [
              "   GENDER  UMUR  JUMLAH ANGGOTA  PENGHASILAN  DaysLate  ALAMAT  CHURN\n",
              "0       1    30               3       450000        30       0      0\n",
              "1       0    38               3       340000        30       0      0\n",
              "2       0    28               2       650000        30       0      0\n",
              "3       0    43               4       652000        30       1      0\n",
              "4       0    39               3       590000        30       1      0"
            ],
            "text/html": [
              "\n",
              "  <div id=\"df-d9ff31d4-d8d3-482d-a20f-1e8243cf3eb3\" class=\"colab-df-container\">\n",
              "    <div>\n",
              "<style scoped>\n",
              "    .dataframe tbody tr th:only-of-type {\n",
              "        vertical-align: middle;\n",
              "    }\n",
              "\n",
              "    .dataframe tbody tr th {\n",
              "        vertical-align: top;\n",
              "    }\n",
              "\n",
              "    .dataframe thead th {\n",
              "        text-align: right;\n",
              "    }\n",
              "</style>\n",
              "<table border=\"1\" class=\"dataframe\">\n",
              "  <thead>\n",
              "    <tr style=\"text-align: right;\">\n",
              "      <th></th>\n",
              "      <th>GENDER</th>\n",
              "      <th>UMUR</th>\n",
              "      <th>JUMLAH ANGGOTA</th>\n",
              "      <th>PENGHASILAN</th>\n",
              "      <th>DaysLate</th>\n",
              "      <th>ALAMAT</th>\n",
              "      <th>CHURN</th>\n",
              "    </tr>\n",
              "  </thead>\n",
              "  <tbody>\n",
              "    <tr>\n",
              "      <th>0</th>\n",
              "      <td>1</td>\n",
              "      <td>30</td>\n",
              "      <td>3</td>\n",
              "      <td>450000</td>\n",
              "      <td>30</td>\n",
              "      <td>0</td>\n",
              "      <td>0</td>\n",
              "    </tr>\n",
              "    <tr>\n",
              "      <th>1</th>\n",
              "      <td>0</td>\n",
              "      <td>38</td>\n",
              "      <td>3</td>\n",
              "      <td>340000</td>\n",
              "      <td>30</td>\n",
              "      <td>0</td>\n",
              "      <td>0</td>\n",
              "    </tr>\n",
              "    <tr>\n",
              "      <th>2</th>\n",
              "      <td>0</td>\n",
              "      <td>28</td>\n",
              "      <td>2</td>\n",
              "      <td>650000</td>\n",
              "      <td>30</td>\n",
              "      <td>0</td>\n",
              "      <td>0</td>\n",
              "    </tr>\n",
              "    <tr>\n",
              "      <th>3</th>\n",
              "      <td>0</td>\n",
              "      <td>43</td>\n",
              "      <td>4</td>\n",
              "      <td>652000</td>\n",
              "      <td>30</td>\n",
              "      <td>1</td>\n",
              "      <td>0</td>\n",
              "    </tr>\n",
              "    <tr>\n",
              "      <th>4</th>\n",
              "      <td>0</td>\n",
              "      <td>39</td>\n",
              "      <td>3</td>\n",
              "      <td>590000</td>\n",
              "      <td>30</td>\n",
              "      <td>1</td>\n",
              "      <td>0</td>\n",
              "    </tr>\n",
              "  </tbody>\n",
              "</table>\n",
              "</div>\n",
              "    <div class=\"colab-df-buttons\">\n",
              "\n",
              "  <div class=\"colab-df-container\">\n",
              "    <button class=\"colab-df-convert\" onclick=\"convertToInteractive('df-d9ff31d4-d8d3-482d-a20f-1e8243cf3eb3')\"\n",
              "            title=\"Convert this dataframe to an interactive table.\"\n",
              "            style=\"display:none;\">\n",
              "\n",
              "  <svg xmlns=\"http://www.w3.org/2000/svg\" height=\"24px\" viewBox=\"0 -960 960 960\">\n",
              "    <path d=\"M120-120v-720h720v720H120Zm60-500h600v-160H180v160Zm220 220h160v-160H400v160Zm0 220h160v-160H400v160ZM180-400h160v-160H180v160Zm440 0h160v-160H620v160ZM180-180h160v-160H180v160Zm440 0h160v-160H620v160Z\"/>\n",
              "  </svg>\n",
              "    </button>\n",
              "\n",
              "  <style>\n",
              "    .colab-df-container {\n",
              "      display:flex;\n",
              "      gap: 12px;\n",
              "    }\n",
              "\n",
              "    .colab-df-convert {\n",
              "      background-color: #E8F0FE;\n",
              "      border: none;\n",
              "      border-radius: 50%;\n",
              "      cursor: pointer;\n",
              "      display: none;\n",
              "      fill: #1967D2;\n",
              "      height: 32px;\n",
              "      padding: 0 0 0 0;\n",
              "      width: 32px;\n",
              "    }\n",
              "\n",
              "    .colab-df-convert:hover {\n",
              "      background-color: #E2EBFA;\n",
              "      box-shadow: 0px 1px 2px rgba(60, 64, 67, 0.3), 0px 1px 3px 1px rgba(60, 64, 67, 0.15);\n",
              "      fill: #174EA6;\n",
              "    }\n",
              "\n",
              "    .colab-df-buttons div {\n",
              "      margin-bottom: 4px;\n",
              "    }\n",
              "\n",
              "    [theme=dark] .colab-df-convert {\n",
              "      background-color: #3B4455;\n",
              "      fill: #D2E3FC;\n",
              "    }\n",
              "\n",
              "    [theme=dark] .colab-df-convert:hover {\n",
              "      background-color: #434B5C;\n",
              "      box-shadow: 0px 1px 3px 1px rgba(0, 0, 0, 0.15);\n",
              "      filter: drop-shadow(0px 1px 2px rgba(0, 0, 0, 0.3));\n",
              "      fill: #FFFFFF;\n",
              "    }\n",
              "  </style>\n",
              "\n",
              "    <script>\n",
              "      const buttonEl =\n",
              "        document.querySelector('#df-d9ff31d4-d8d3-482d-a20f-1e8243cf3eb3 button.colab-df-convert');\n",
              "      buttonEl.style.display =\n",
              "        google.colab.kernel.accessAllowed ? 'block' : 'none';\n",
              "\n",
              "      async function convertToInteractive(key) {\n",
              "        const element = document.querySelector('#df-d9ff31d4-d8d3-482d-a20f-1e8243cf3eb3');\n",
              "        const dataTable =\n",
              "          await google.colab.kernel.invokeFunction('convertToInteractive',\n",
              "                                                    [key], {});\n",
              "        if (!dataTable) return;\n",
              "\n",
              "        const docLinkHtml = 'Like what you see? Visit the ' +\n",
              "          '<a target=\"_blank\" href=https://colab.research.google.com/notebooks/data_table.ipynb>data table notebook</a>'\n",
              "          + ' to learn more about interactive tables.';\n",
              "        element.innerHTML = '';\n",
              "        dataTable['output_type'] = 'display_data';\n",
              "        await google.colab.output.renderOutput(dataTable, element);\n",
              "        const docLink = document.createElement('div');\n",
              "        docLink.innerHTML = docLinkHtml;\n",
              "        element.appendChild(docLink);\n",
              "      }\n",
              "    </script>\n",
              "  </div>\n",
              "\n",
              "\n",
              "<div id=\"df-75ddba0f-d3c4-417a-b2b0-a4cc1685a98f\">\n",
              "  <button class=\"colab-df-quickchart\" onclick=\"quickchart('df-75ddba0f-d3c4-417a-b2b0-a4cc1685a98f')\"\n",
              "            title=\"Suggest charts.\"\n",
              "            style=\"display:none;\">\n",
              "\n",
              "<svg xmlns=\"http://www.w3.org/2000/svg\" height=\"24px\"viewBox=\"0 0 24 24\"\n",
              "     width=\"24px\">\n",
              "    <g>\n",
              "        <path d=\"M19 3H5c-1.1 0-2 .9-2 2v14c0 1.1.9 2 2 2h14c1.1 0 2-.9 2-2V5c0-1.1-.9-2-2-2zM9 17H7v-7h2v7zm4 0h-2V7h2v10zm4 0h-2v-4h2v4z\"/>\n",
              "    </g>\n",
              "</svg>\n",
              "  </button>\n",
              "\n",
              "<style>\n",
              "  .colab-df-quickchart {\n",
              "      --bg-color: #E8F0FE;\n",
              "      --fill-color: #1967D2;\n",
              "      --hover-bg-color: #E2EBFA;\n",
              "      --hover-fill-color: #174EA6;\n",
              "      --disabled-fill-color: #AAA;\n",
              "      --disabled-bg-color: #DDD;\n",
              "  }\n",
              "\n",
              "  [theme=dark] .colab-df-quickchart {\n",
              "      --bg-color: #3B4455;\n",
              "      --fill-color: #D2E3FC;\n",
              "      --hover-bg-color: #434B5C;\n",
              "      --hover-fill-color: #FFFFFF;\n",
              "      --disabled-bg-color: #3B4455;\n",
              "      --disabled-fill-color: #666;\n",
              "  }\n",
              "\n",
              "  .colab-df-quickchart {\n",
              "    background-color: var(--bg-color);\n",
              "    border: none;\n",
              "    border-radius: 50%;\n",
              "    cursor: pointer;\n",
              "    display: none;\n",
              "    fill: var(--fill-color);\n",
              "    height: 32px;\n",
              "    padding: 0;\n",
              "    width: 32px;\n",
              "  }\n",
              "\n",
              "  .colab-df-quickchart:hover {\n",
              "    background-color: var(--hover-bg-color);\n",
              "    box-shadow: 0 1px 2px rgba(60, 64, 67, 0.3), 0 1px 3px 1px rgba(60, 64, 67, 0.15);\n",
              "    fill: var(--button-hover-fill-color);\n",
              "  }\n",
              "\n",
              "  .colab-df-quickchart-complete:disabled,\n",
              "  .colab-df-quickchart-complete:disabled:hover {\n",
              "    background-color: var(--disabled-bg-color);\n",
              "    fill: var(--disabled-fill-color);\n",
              "    box-shadow: none;\n",
              "  }\n",
              "\n",
              "  .colab-df-spinner {\n",
              "    border: 2px solid var(--fill-color);\n",
              "    border-color: transparent;\n",
              "    border-bottom-color: var(--fill-color);\n",
              "    animation:\n",
              "      spin 1s steps(1) infinite;\n",
              "  }\n",
              "\n",
              "  @keyframes spin {\n",
              "    0% {\n",
              "      border-color: transparent;\n",
              "      border-bottom-color: var(--fill-color);\n",
              "      border-left-color: var(--fill-color);\n",
              "    }\n",
              "    20% {\n",
              "      border-color: transparent;\n",
              "      border-left-color: var(--fill-color);\n",
              "      border-top-color: var(--fill-color);\n",
              "    }\n",
              "    30% {\n",
              "      border-color: transparent;\n",
              "      border-left-color: var(--fill-color);\n",
              "      border-top-color: var(--fill-color);\n",
              "      border-right-color: var(--fill-color);\n",
              "    }\n",
              "    40% {\n",
              "      border-color: transparent;\n",
              "      border-right-color: var(--fill-color);\n",
              "      border-top-color: var(--fill-color);\n",
              "    }\n",
              "    60% {\n",
              "      border-color: transparent;\n",
              "      border-right-color: var(--fill-color);\n",
              "    }\n",
              "    80% {\n",
              "      border-color: transparent;\n",
              "      border-right-color: var(--fill-color);\n",
              "      border-bottom-color: var(--fill-color);\n",
              "    }\n",
              "    90% {\n",
              "      border-color: transparent;\n",
              "      border-bottom-color: var(--fill-color);\n",
              "    }\n",
              "  }\n",
              "</style>\n",
              "\n",
              "  <script>\n",
              "    async function quickchart(key) {\n",
              "      const quickchartButtonEl =\n",
              "        document.querySelector('#' + key + ' button');\n",
              "      quickchartButtonEl.disabled = true;  // To prevent multiple clicks.\n",
              "      quickchartButtonEl.classList.add('colab-df-spinner');\n",
              "      try {\n",
              "        const charts = await google.colab.kernel.invokeFunction(\n",
              "            'suggestCharts', [key], {});\n",
              "      } catch (error) {\n",
              "        console.error('Error during call to suggestCharts:', error);\n",
              "      }\n",
              "      quickchartButtonEl.classList.remove('colab-df-spinner');\n",
              "      quickchartButtonEl.classList.add('colab-df-quickchart-complete');\n",
              "    }\n",
              "    (() => {\n",
              "      let quickchartButtonEl =\n",
              "        document.querySelector('#df-75ddba0f-d3c4-417a-b2b0-a4cc1685a98f button');\n",
              "      quickchartButtonEl.style.display =\n",
              "        google.colab.kernel.accessAllowed ? 'block' : 'none';\n",
              "    })();\n",
              "  </script>\n",
              "</div>\n",
              "    </div>\n",
              "  </div>\n"
            ]
          },
          "metadata": {},
          "execution_count": 13
        }
      ],
      "source": [
        "data_subset.head()"
      ]
    },
    {
      "cell_type": "code",
      "execution_count": null,
      "metadata": {
        "colab": {
          "base_uri": "https://localhost:8080/"
        },
        "id": "YfYxK6DtrBPW",
        "outputId": "c9d77971-c289-47ca-b293-4e63995c3753"
      },
      "outputs": [
        {
          "output_type": "stream",
          "name": "stdout",
          "text": [
            "<class 'pandas.core.frame.DataFrame'>\n",
            "RangeIndex: 1384 entries, 0 to 1383\n",
            "Data columns (total 7 columns):\n",
            " #   Column          Non-Null Count  Dtype\n",
            "---  ------          --------------  -----\n",
            " 0   GENDER          1384 non-null   int64\n",
            " 1   UMUR            1384 non-null   int64\n",
            " 2   JUMLAH ANGGOTA  1384 non-null   int64\n",
            " 3   PENGHASILAN     1384 non-null   int64\n",
            " 4   DaysLate        1384 non-null   int64\n",
            " 5   ALAMAT          1384 non-null   int64\n",
            " 6   CHURN           1384 non-null   int64\n",
            "dtypes: int64(7)\n",
            "memory usage: 75.8 KB\n"
          ]
        }
      ],
      "source": [
        "data_subset.info()"
      ]
    },
    {
      "cell_type": "code",
      "execution_count": null,
      "metadata": {
        "colab": {
          "base_uri": "https://localhost:8080/"
        },
        "id": "eyy1PzD-rEVQ",
        "outputId": "da141117-8f49-4202-87bd-c5f597a1ba0f"
      },
      "outputs": [
        {
          "output_type": "execute_result",
          "data": {
            "text/plain": [
              "array(['GENDER', 'UMUR', 'JUMLAH ANGGOTA', 'PENGHASILAN', 'DaysLate',\n",
              "       'ALAMAT', 'CHURN'], dtype=object)"
            ]
          },
          "metadata": {},
          "execution_count": 15
        }
      ],
      "source": [
        "#melihat nama kolom dataframe\n",
        "#melihat nama kolom untuk memeriksa spasi awal dan akhir\n",
        "data_subset.columns.values"
      ]
    },
    {
      "cell_type": "code",
      "execution_count": null,
      "metadata": {
        "colab": {
          "base_uri": "https://localhost:8080/"
        },
        "id": "sU3vRkyprIKm",
        "outputId": "abc2eeea-8eee-4274-be2c-3091275c9ad1"
      },
      "outputs": [
        {
          "output_type": "execute_result",
          "data": {
            "text/plain": [
              "GENDER            int64\n",
              "UMUR              int64\n",
              "JUMLAH ANGGOTA    int64\n",
              "PENGHASILAN       int64\n",
              "DaysLate          int64\n",
              "ALAMAT            int64\n",
              "CHURN             int64\n",
              "dtype: object"
            ]
          },
          "metadata": {},
          "execution_count": 16
        }
      ],
      "source": [
        "data_subset.dtypes #melihat tipe data subset"
      ]
    },
    {
      "cell_type": "code",
      "execution_count": null,
      "metadata": {
        "colab": {
          "base_uri": "https://localhost:8080/"
        },
        "id": "NZ1T2SSduBIT",
        "outputId": "215e4230-9ab1-4a23-fe32-05c0a2b8bf91"
      },
      "outputs": [
        {
          "output_type": "stream",
          "name": "stdout",
          "text": [
            "<class 'pandas.core.frame.DataFrame'>\n",
            "RangeIndex: 1384 entries, 0 to 1383\n",
            "Data columns (total 7 columns):\n",
            " #   Column          Non-Null Count  Dtype\n",
            "---  ------          --------------  -----\n",
            " 0   GENDER          1384 non-null   int64\n",
            " 1   UMUR            1384 non-null   int64\n",
            " 2   JUMLAH ANGGOTA  1384 non-null   int64\n",
            " 3   PENGHASILAN     1384 non-null   int64\n",
            " 4   DaysLate        1384 non-null   int64\n",
            " 5   ALAMAT          1384 non-null   int64\n",
            " 6   CHURN           1384 non-null   int64\n",
            "dtypes: int64(7)\n",
            "memory usage: 75.8 KB\n"
          ]
        }
      ],
      "source": [
        "data_subset.info()"
      ]
    },
    {
      "cell_type": "markdown",
      "metadata": {
        "id": "SHZeh98Yp_y4"
      },
      "source": [
        "Dapat dilihat bahwa tidak ada nilai yang hilang dalam dataset dan semua variabel merupakan variabel integer."
      ]
    },
    {
      "cell_type": "markdown",
      "metadata": {
        "id": "OF154-kUqEGm"
      },
      "source": [
        "Variabel target adalah kolom churn. Jadi, saya akan memeriksa distribusinya."
      ]
    },
    {
      "cell_type": "code",
      "execution_count": null,
      "metadata": {
        "colab": {
          "base_uri": "https://localhost:8080/"
        },
        "id": "NhieZ2erSMhU",
        "outputId": "8dcd2c63-ef20-49b5-88f0-87dd9bb5c883"
      },
      "outputs": [
        {
          "output_type": "execute_result",
          "data": {
            "text/plain": [
              "0    1339\n",
              "1      45\n",
              "Name: CHURN, dtype: int64"
            ]
          },
          "metadata": {},
          "execution_count": 18
        }
      ],
      "source": [
        "#check distribution of churn column\n",
        "\n",
        "data_subset['CHURN'].value_counts()"
      ]
    },
    {
      "cell_type": "code",
      "source": [
        "# view the percentage distribution of CHURN column\n",
        "data_subset['CHURN'].value_counts()/np.float(len(data_subset))"
      ],
      "metadata": {
        "colab": {
          "base_uri": "https://localhost:8080/"
        },
        "id": "Q9ldpyTMXo2b",
        "outputId": "2d28ea17-d11b-4629-cdb3-051672fa4c96"
      },
      "execution_count": null,
      "outputs": [
        {
          "output_type": "stream",
          "name": "stderr",
          "text": [
            "<ipython-input-28-a9e8a7ae5f21>:2: DeprecationWarning: `np.float` is a deprecated alias for the builtin `float`. To silence this warning, use `float` by itself. Doing this will not modify any behavior and is safe. If you specifically wanted the numpy scalar type, use `np.float64` here.\n",
            "Deprecated in NumPy 1.20; for more details and guidance: https://numpy.org/devdocs/release/1.20.0-notes.html#deprecations\n",
            "  data_subset['CHURN'].value_counts()/np.float(len(data_subset))\n"
          ]
        },
        {
          "output_type": "execute_result",
          "data": {
            "text/plain": [
              "0    0.967486\n",
              "1    0.032514\n",
              "Name: CHURN, dtype: float64"
            ]
          },
          "metadata": {},
          "execution_count": 28
        }
      ]
    },
    {
      "cell_type": "code",
      "execution_count": null,
      "metadata": {
        "colab": {
          "base_uri": "https://localhost:8080/",
          "height": 453
        },
        "id": "f3wJPltMXsd6",
        "outputId": "63246b24-0b79-4d34-f059-1f1189bf2fbd"
      },
      "outputs": [
        {
          "output_type": "display_data",
          "data": {
            "text/plain": [
              "<Figure size 640x480 with 1 Axes>"
            ],
            "image/png": "[encoded data removed]"
          },
          "metadata": {}
        }
      ],
      "source": [
        "import seaborn as sns\n",
        "import matplotlib.pyplot as plt\n",
        "\n",
        "# Assuming data_subset is your DataFrame\n",
        "\n",
        "# Create the count plot\n",
        "sns.countplot(data=data_subset, x='CHURN', label=\"Count\")\n",
        "\n",
        "# Set the ylabel\n",
        "plt.ylabel('Count')\n",
        "\n",
        "# Show the plot\n",
        "plt.show()\n"
      ]
    },
    {
      "cell_type": "markdown",
      "metadata": {
        "id": "hAT2VzKAqSNx"
      },
      "source": [
        "Terlihat persentase observasi pada kelas label 0 dan 1 adalah 96,74% dan 3,25%. Jadi, ini adalah masalah ketidakseimbangan kelas. Maka akan dibahas pada bagian selanjutnya."
      ]
    },
    {
      "cell_type": "code",
      "execution_count": null,
      "metadata": {
        "colab": {
          "base_uri": "https://localhost:8080/"
        },
        "id": "q7o5EMY6gEWl",
        "outputId": "366f4f6b-5e37-4361-d9c2-799fd4b1c50d"
      },
      "outputs": [
        {
          "output_type": "execute_result",
          "data": {
            "text/plain": [
              "0    1204\n",
              "1     180\n",
              "Name: GENDER, dtype: int64"
            ]
          },
          "metadata": {},
          "execution_count": 20
        }
      ],
      "source": [
        "data_subset['GENDER'].value_counts()"
      ]
    },
    {
      "cell_type": "code",
      "execution_count": null,
      "metadata": {
        "colab": {
          "base_uri": "https://localhost:8080/"
        },
        "id": "fas9P2G9TLmU",
        "outputId": "b380dcbb-0a92-47b1-e8a1-7747a7eb6d4c"
      },
      "outputs": [
        {
          "output_type": "execute_result",
          "data": {
            "text/plain": [
              "0    1339\n",
              "1      45\n",
              "Name: CHURN, dtype: int64"
            ]
          },
          "metadata": {},
          "execution_count": 21
        }
      ],
      "source": [
        "data_subset['CHURN'].value_counts()"
      ]
    },
    {
      "cell_type": "code",
      "execution_count": null,
      "metadata": {
        "colab": {
          "base_uri": "https://localhost:8080/"
        },
        "id": "qMGx7JxPxGMc",
        "outputId": "bd2097f3-d2ed-4ef0-afe1-47fe06be2423"
      },
      "outputs": [
        {
          "output_type": "execute_result",
          "data": {
            "text/plain": [
              "3    554\n",
              "2    398\n",
              "4    300\n",
              "5     86\n",
              "1     39\n",
              "6      7\n",
              "Name: JUMLAH ANGGOTA, dtype: int64"
            ]
          },
          "metadata": {},
          "execution_count": 22
        }
      ],
      "source": [
        "data_subset['JUMLAH ANGGOTA'].value_counts()"
      ]
    },
    {
      "cell_type": "code",
      "execution_count": null,
      "metadata": {
        "colab": {
          "base_uri": "https://localhost:8080/"
        },
        "id": "tgLJfCYFxQfQ",
        "outputId": "3b7fc8a2-2ba6-4453-8bb5-f6e5f4c929e1"
      },
      "outputs": [
        {
          "output_type": "execute_result",
          "data": {
            "text/plain": [
              "0     531\n",
              "7     104\n",
              "30     65\n",
              "3      57\n",
              "2      50\n",
              "1      47\n",
              "14     46\n",
              "10     44\n",
              "16     44\n",
              "6      44\n",
              "5      42\n",
              "4      40\n",
              "17     40\n",
              "13     39\n",
              "12     39\n",
              "8      37\n",
              "15     35\n",
              "9      29\n",
              "11     25\n",
              "18      9\n",
              "19      9\n",
              "20      8\n",
              "Name: DaysLate, dtype: int64"
            ]
          },
          "metadata": {},
          "execution_count": 23
        }
      ],
      "source": [
        "data_subset['DaysLate'].value_counts()"
      ]
    },
    {
      "cell_type": "markdown",
      "metadata": {
        "id": "zXVrtiYWqcLV"
      },
      "source": [
        "##Outliers in numerical variables"
      ]
    },
    {
      "cell_type": "code",
      "execution_count": null,
      "metadata": {
        "colab": {
          "base_uri": "https://localhost:8080/",
          "height": 306
        },
        "id": "PbdgFkZOUQTw",
        "outputId": "24b07bf1-6a67-45cb-e58c-c8e2a785e96c"
      },
      "outputs": [
        {
          "output_type": "execute_result",
          "data": {
            "text/plain": [
              "                 count           mean            std       min       25%  \\\n",
              "GENDER          1384.0       0.130058       0.336489       0.0       0.0   \n",
              "UMUR            1384.0      39.994220       7.354565       3.0      35.0   \n",
              "JUMLAH ANGGOTA  1384.0       3.012283       0.954796       1.0       2.0   \n",
              "PENGHASILAN     1384.0  769016.618497  225191.462874  340000.0  600000.0   \n",
              "DaysLate        1384.0       6.447254       7.771602       0.0       0.0   \n",
              "ALAMAT          1384.0       1.435694       0.590523       0.0       1.0   \n",
              "CHURN           1384.0       0.032514       0.177426       0.0       0.0   \n",
              "\n",
              "                     50%       75%        max  \n",
              "GENDER               0.0       0.0        1.0  \n",
              "UMUR                39.0      45.0       60.0  \n",
              "JUMLAH ANGGOTA       3.0       4.0        6.0  \n",
              "PENGHASILAN     750000.0  895000.0  1500000.0  \n",
              "DaysLate             4.0      11.0       30.0  \n",
              "ALAMAT               1.0       2.0        2.0  \n",
              "CHURN                0.0       0.0        1.0  "
            ],
            "text/html": [
              "\n",
              "  <div id=\"df-471a5a6e-2eed-4310-8376-e5a58f13ac5a\" class=\"colab-df-container\">\n",
              "    <div>\n",
              "<style scoped>\n",
              "    .dataframe tbody tr th:only-of-type {\n",
              "        vertical-align: middle;\n",
              "    }\n",
              "\n",
              "    .dataframe tbody tr th {\n",
              "        vertical-align: top;\n",
              "    }\n",
              "\n",
              "    .dataframe thead th {\n",
              "        text-align: right;\n",
              "    }\n",
              "</style>\n",
              "<table border=\"1\" class=\"dataframe\">\n",
              "  <thead>\n",
              "    <tr style=\"text-align: right;\">\n",
              "      <th></th>\n",
              "      <th>count</th>\n",
              "      <th>mean</th>\n",
              "      <th>std</th>\n",
              "      <th>min</th>\n",
              "      <th>25%</th>\n",
              "      <th>50%</th>\n",
              "      <th>75%</th>\n",
              "      <th>max</th>\n",
              "    </tr>\n",
              "  </thead>\n",
              "  <tbody>\n",
              "    <tr>\n",
              "      <th>GENDER</th>\n",
              "      <td>1384.0</td>\n",
              "      <td>0.130058</td>\n",
              "      <td>0.336489</td>\n",
              "      <td>0.0</td>\n",
              "      <td>0.0</td>\n",
              "      <td>0.0</td>\n",
              "      <td>0.0</td>\n",
              "      <td>1.0</td>\n",
              "    </tr>\n",
              "    <tr>\n",
              "      <th>UMUR</th>\n",
              "      <td>1384.0</td>\n",
              "      <td>39.994220</td>\n",
              "      <td>7.354565</td>\n",
              "      <td>3.0</td>\n",
              "      <td>35.0</td>\n",
              "      <td>39.0</td>\n",
              "      <td>45.0</td>\n",
              "      <td>60.0</td>\n",
              "    </tr>\n",
              "    <tr>\n",
              "      <th>JUMLAH ANGGOTA</th>\n",
              "      <td>1384.0</td>\n",
              "      <td>3.012283</td>\n",
              "      <td>0.954796</td>\n",
              "      <td>1.0</td>\n",
              "      <td>2.0</td>\n",
              "      <td>3.0</td>\n",
              "      <td>4.0</td>\n",
              "      <td>6.0</td>\n",
              "    </tr>\n",
              "    <tr>\n",
              "      <th>PENGHASILAN</th>\n",
              "      <td>1384.0</td>\n",
              "      <td>769016.618497</td>\n",
              "      <td>225191.462874</td>\n",
              "      <td>340000.0</td>\n",
              "      <td>600000.0</td>\n",
              "      <td>750000.0</td>\n",
              "      <td>895000.0</td>\n",
              "      <td>1500000.0</td>\n",
              "    </tr>\n",
              "    <tr>\n",
              "      <th>DaysLate</th>\n",
              "      <td>1384.0</td>\n",
              "      <td>6.447254</td>\n",
              "      <td>7.771602</td>\n",
              "      <td>0.0</td>\n",
              "      <td>0.0</td>\n",
              "      <td>4.0</td>\n",
              "      <td>11.0</td>\n",
              "      <td>30.0</td>\n",
              "    </tr>\n",
              "    <tr>\n",
              "      <th>ALAMAT</th>\n",
              "      <td>1384.0</td>\n",
              "      <td>1.435694</td>\n",
              "      <td>0.590523</td>\n",
              "      <td>0.0</td>\n",
              "      <td>1.0</td>\n",
              "      <td>1.0</td>\n",
              "      <td>2.0</td>\n",
              "      <td>2.0</td>\n",
              "    </tr>\n",
              "    <tr>\n",
              "      <th>CHURN</th>\n",
              "      <td>1384.0</td>\n",
              "      <td>0.032514</td>\n",
              "      <td>0.177426</td>\n",
              "      <td>0.0</td>\n",
              "      <td>0.0</td>\n",
              "      <td>0.0</td>\n",
              "      <td>0.0</td>\n",
              "      <td>1.0</td>\n",
              "    </tr>\n",
              "  </tbody>\n",
              "</table>\n",
              "</div>\n",
              "    <div class=\"colab-df-buttons\">\n",
              "\n",
              "  <div class=\"colab-df-container\">\n",
              "    <button class=\"colab-df-convert\" onclick=\"convertToInteractive('df-471a5a6e-2eed-4310-8376-e5a58f13ac5a')\"\n",
              "            title=\"Convert this dataframe to an interactive table.\"\n",
              "            style=\"display:none;\">\n",
              "\n",
              "  <svg xmlns=\"http://www.w3.org/2000/svg\" height=\"24px\" viewBox=\"0 -960 960 960\">\n",
              "    <path d=\"M120-120v-720h720v720H120Zm60-500h600v-160H180v160Zm220 220h160v-160H400v160Zm0 220h160v-160H400v160ZM180-400h160v-160H180v160Zm440 0h160v-160H620v160ZM180-180h160v-160H180v160Zm440 0h160v-160H620v160Z\"/>\n",
              "  </svg>\n",
              "    </button>\n",
              "\n",
              "  <style>\n",
              "    .colab-df-container {\n",
              "      display:flex;\n",
              "      gap: 12px;\n",
              "    }\n",
              "\n",
              "    .colab-df-convert {\n",
              "      background-color: #E8F0FE;\n",
              "      border: none;\n",
              "      border-radius: 50%;\n",
              "      cursor: pointer;\n",
              "      display: none;\n",
              "      fill: #1967D2;\n",
              "      height: 32px;\n",
              "      padding: 0 0 0 0;\n",
              "      width: 32px;\n",
              "    }\n",
              "\n",
              "    .colab-df-convert:hover {\n",
              "      background-color: #E2EBFA;\n",
              "      box-shadow: 0px 1px 2px rgba(60, 64, 67, 0.3), 0px 1px 3px 1px rgba(60, 64, 67, 0.15);\n",
              "      fill: #174EA6;\n",
              "    }\n",
              "\n",
              "    .colab-df-buttons div {\n",
              "      margin-bottom: 4px;\n",
              "    }\n",
              "\n",
              "    [theme=dark] .colab-df-convert {\n",
              "      background-color: #3B4455;\n",
              "      fill: #D2E3FC;\n",
              "    }\n",
              "\n",
              "    [theme=dark] .colab-df-convert:hover {\n",
              "      background-color: #434B5C;\n",
              "      box-shadow: 0px 1px 3px 1px rgba(0, 0, 0, 0.15);\n",
              "      filter: drop-shadow(0px 1px 2px rgba(0, 0, 0, 0.3));\n",
              "      fill: #FFFFFF;\n",
              "    }\n",
              "  </style>\n",
              "\n",
              "    <script>\n",
              "      const buttonEl =\n",
              "        document.querySelector('#df-471a5a6e-2eed-4310-8376-e5a58f13ac5a button.colab-df-convert');\n",
              "      buttonEl.style.display =\n",
              "        google.colab.kernel.accessAllowed ? 'block' : 'none';\n",
              "\n",
              "      async function convertToInteractive(key) {\n",
              "        const element = document.querySelector('#df-471a5a6e-2eed-4310-8376-e5a58f13ac5a');\n",
              "        const dataTable =\n",
              "          await google.colab.kernel.invokeFunction('convertToInteractive',\n",
              "                                                    [key], {});\n",
              "        if (!dataTable) return;\n",
              "\n",
              "        const docLinkHtml = 'Like what you see? Visit the ' +\n",
              "          '<a target=\"_blank\" href=https://colab.research.google.com/notebooks/data_table.ipynb>data table notebook</a>'\n",
              "          + ' to learn more about interactive tables.';\n",
              "        element.innerHTML = '';\n",
              "        dataTable['output_type'] = 'display_data';\n",
              "        await google.colab.output.renderOutput(dataTable, element);\n",
              "        const docLink = document.createElement('div');\n",
              "        docLink.innerHTML = docLinkHtml;\n",
              "        element.appendChild(docLink);\n",
              "      }\n",
              "    </script>\n",
              "  </div>\n",
              "\n",
              "\n",
              "<div id=\"df-b8ccb645-afa8-4fde-83de-ce7040161d87\">\n",
              "  <button class=\"colab-df-quickchart\" onclick=\"quickchart('df-b8ccb645-afa8-4fde-83de-ce7040161d87')\"\n",
              "            title=\"Suggest charts.\"\n",
              "            style=\"display:none;\">\n",
              "\n",
              "<svg xmlns=\"http://www.w3.org/2000/svg\" height=\"24px\"viewBox=\"0 0 24 24\"\n",
              "     width=\"24px\">\n",
              "    <g>\n",
              "        <path d=\"M19 3H5c-1.1 0-2 .9-2 2v14c0 1.1.9 2 2 2h14c1.1 0 2-.9 2-2V5c0-1.1-.9-2-2-2zM9 17H7v-7h2v7zm4 0h-2V7h2v10zm4 0h-2v-4h2v4z\"/>\n",
              "    </g>\n",
              "</svg>\n",
              "  </button>\n",
              "\n",
              "<style>\n",
              "  .colab-df-quickchart {\n",
              "      --bg-color: #E8F0FE;\n",
              "      --fill-color: #1967D2;\n",
              "      --hover-bg-color: #E2EBFA;\n",
              "      --hover-fill-color: #174EA6;\n",
              "      --disabled-fill-color: #AAA;\n",
              "      --disabled-bg-color: #DDD;\n",
              "  }\n",
              "\n",
              "  [theme=dark] .colab-df-quickchart {\n",
              "      --bg-color: #3B4455;\n",
              "      --fill-color: #D2E3FC;\n",
              "      --hover-bg-color: #434B5C;\n",
              "      --hover-fill-color: #FFFFFF;\n",
              "      --disabled-bg-color: #3B4455;\n",
              "      --disabled-fill-color: #666;\n",
              "  }\n",
              "\n",
              "  .colab-df-quickchart {\n",
              "    background-color: var(--bg-color);\n",
              "    border: none;\n",
              "    border-radius: 50%;\n",
              "    cursor: pointer;\n",
              "    display: none;\n",
              "    fill: var(--fill-color);\n",
              "    height: 32px;\n",
              "    padding: 0;\n",
              "    width: 32px;\n",
              "  }\n",
              "\n",
              "  .colab-df-quickchart:hover {\n",
              "    background-color: var(--hover-bg-color);\n",
              "    box-shadow: 0 1px 2px rgba(60, 64, 67, 0.3), 0 1px 3px 1px rgba(60, 64, 67, 0.15);\n",
              "    fill: var(--button-hover-fill-color);\n",
              "  }\n",
              "\n",
              "  .colab-df-quickchart-complete:disabled,\n",
              "  .colab-df-quickchart-complete:disabled:hover {\n",
              "    background-color: var(--disabled-bg-color);\n",
              "    fill: var(--disabled-fill-color);\n",
              "    box-shadow: none;\n",
              "  }\n",
              "\n",
              "  .colab-df-spinner {\n",
              "    border: 2px solid var(--fill-color);\n",
              "    border-color: transparent;\n",
              "    border-bottom-color: var(--fill-color);\n",
              "    animation:\n",
              "      spin 1s steps(1) infinite;\n",
              "  }\n",
              "\n",
              "  @keyframes spin {\n",
              "    0% {\n",
              "      border-color: transparent;\n",
              "      border-bottom-color: var(--fill-color);\n",
              "      border-left-color: var(--fill-color);\n",
              "    }\n",
              "    20% {\n",
              "      border-color: transparent;\n",
              "      border-left-color: var(--fill-color);\n",
              "      border-top-color: var(--fill-color);\n",
              "    }\n",
              "    30% {\n",
              "      border-color: transparent;\n",
              "      border-left-color: var(--fill-color);\n",
              "      border-top-color: var(--fill-color);\n",
              "      border-right-color: var(--fill-color);\n",
              "    }\n",
              "    40% {\n",
              "      border-color: transparent;\n",
              "      border-right-color: var(--fill-color);\n",
              "      border-top-color: var(--fill-color);\n",
              "    }\n",
              "    60% {\n",
              "      border-color: transparent;\n",
              "      border-right-color: var(--fill-color);\n",
              "    }\n",
              "    80% {\n",
              "      border-color: transparent;\n",
              "      border-right-color: var(--fill-color);\n",
              "      border-bottom-color: var(--fill-color);\n",
              "    }\n",
              "    90% {\n",
              "      border-color: transparent;\n",
              "      border-bottom-color: var(--fill-color);\n",
              "    }\n",
              "  }\n",
              "</style>\n",
              "\n",
              "  <script>\n",
              "    async function quickchart(key) {\n",
              "      const quickchartButtonEl =\n",
              "        document.querySelector('#' + key + ' button');\n",
              "      quickchartButtonEl.disabled = true;  // To prevent multiple clicks.\n",
              "      quickchartButtonEl.classList.add('colab-df-spinner');\n",
              "      try {\n",
              "        const charts = await google.colab.kernel.invokeFunction(\n",
              "            'suggestCharts', [key], {});\n",
              "      } catch (error) {\n",
              "        console.error('Error during call to suggestCharts:', error);\n",
              "      }\n",
              "      quickchartButtonEl.classList.remove('colab-df-spinner');\n",
              "      quickchartButtonEl.classList.add('colab-df-quickchart-complete');\n",
              "    }\n",
              "    (() => {\n",
              "      let quickchartButtonEl =\n",
              "        document.querySelector('#df-b8ccb645-afa8-4fde-83de-ce7040161d87 button');\n",
              "      quickchartButtonEl.style.display =\n",
              "        google.colab.kernel.accessAllowed ? 'block' : 'none';\n",
              "    })();\n",
              "  </script>\n",
              "</div>\n",
              "    </div>\n",
              "  </div>\n"
            ]
          },
          "metadata": {},
          "execution_count": 24
        }
      ],
      "source": [
        "data_subset.describe().T"
      ]
    },
    {
      "cell_type": "code",
      "source": [
        "from sklearn.preprocessing import MinMaxScaler\n",
        "scaler=MinMaxScaler()\n",
        "# scaler=PowerTransformer()\n",
        "# scaler=StandardScaler()\n",
        "scaler.fit(data_subset.drop('CHURN',axis=1))\n",
        "scaled_features=scaler.transform(data_subset.drop('CHURN',axis=1))\n",
        "df_feat=pd.DataFrame(scaled_features,columns=data_subset.columns[:-1])\n",
        "\n",
        "df_feat.head()"
      ],
      "metadata": {
        "colab": {
          "base_uri": "https://localhost:8080/",
          "height": 206
        },
        "id": "symwHgoRX4bz",
        "outputId": "e3c145cb-dd2c-4801-beaa-2f58aff8c68c"
      },
      "execution_count": null,
      "outputs": [
        {
          "output_type": "execute_result",
          "data": {
            "text/plain": [
              "   GENDER      UMUR  JUMLAH ANGGOTA  PENGHASILAN  DaysLate  ALAMAT\n",
              "0     1.0  0.473684             0.4     0.094828       1.0     0.0\n",
              "1     0.0  0.614035             0.4     0.000000       1.0     0.0\n",
              "2     0.0  0.438596             0.2     0.267241       1.0     0.0\n",
              "3     0.0  0.701754             0.6     0.268966       1.0     0.5\n",
              "4     0.0  0.631579             0.4     0.215517       1.0     0.5"
            ],
            "text/html": [
              "\n",
              "  <div id=\"df-92e24e4c-cf84-405b-ab47-12ae21181d7e\" class=\"colab-df-container\">\n",
              "    <div>\n",
              "<style scoped>\n",
              "    .dataframe tbody tr th:only-of-type {\n",
              "        vertical-align: middle;\n",
              "    }\n",
              "\n",
              "    .dataframe tbody tr th {\n",
              "        vertical-align: top;\n",
              "    }\n",
              "\n",
              "    .dataframe thead th {\n",
              "        text-align: right;\n",
              "    }\n",
              "</style>\n",
              "<table border=\"1\" class=\"dataframe\">\n",
              "  <thead>\n",
              "    <tr style=\"text-align: right;\">\n",
              "      <th></th>\n",
              "      <th>GENDER</th>\n",
              "      <th>UMUR</th>\n",
              "      <th>JUMLAH ANGGOTA</th>\n",
              "      <th>PENGHASILAN</th>\n",
              "      <th>DaysLate</th>\n",
              "      <th>ALAMAT</th>\n",
              "    </tr>\n",
              "  </thead>\n",
              "  <tbody>\n",
              "    <tr>\n",
              "      <th>0</th>\n",
              "      <td>1.0</td>\n",
              "      <td>0.473684</td>\n",
              "      <td>0.4</td>\n",
              "      <td>0.094828</td>\n",
              "      <td>1.0</td>\n",
              "      <td>0.0</td>\n",
              "    </tr>\n",
              "    <tr>\n",
              "      <th>1</th>\n",
              "      <td>0.0</td>\n",
              "      <td>0.614035</td>\n",
              "      <td>0.4</td>\n",
              "      <td>0.000000</td>\n",
              "      <td>1.0</td>\n",
              "      <td>0.0</td>\n",
              "    </tr>\n",
              "    <tr>\n",
              "      <th>2</th>\n",
              "      <td>0.0</td>\n",
              "      <td>0.438596</td>\n",
              "      <td>0.2</td>\n",
              "      <td>0.267241</td>\n",
              "      <td>1.0</td>\n",
              "      <td>0.0</td>\n",
              "    </tr>\n",
              "    <tr>\n",
              "      <th>3</th>\n",
              "      <td>0.0</td>\n",
              "      <td>0.701754</td>\n",
              "      <td>0.6</td>\n",
              "      <td>0.268966</td>\n",
              "      <td>1.0</td>\n",
              "      <td>0.5</td>\n",
              "    </tr>\n",
              "    <tr>\n",
              "      <th>4</th>\n",
              "      <td>0.0</td>\n",
              "      <td>0.631579</td>\n",
              "      <td>0.4</td>\n",
              "      <td>0.215517</td>\n",
              "      <td>1.0</td>\n",
              "      <td>0.5</td>\n",
              "    </tr>\n",
              "  </tbody>\n",
              "</table>\n",
              "</div>\n",
              "    <div class=\"colab-df-buttons\">\n",
              "\n",
              "  <div class=\"colab-df-container\">\n",
              "    <button class=\"colab-df-convert\" onclick=\"convertToInteractive('df-92e24e4c-cf84-405b-ab47-12ae21181d7e')\"\n",
              "            title=\"Convert this dataframe to an interactive table.\"\n",
              "            style=\"display:none;\">\n",
              "\n",
              "  <svg xmlns=\"http://www.w3.org/2000/svg\" height=\"24px\" viewBox=\"0 -960 960 960\">\n",
              "    <path d=\"M120-120v-720h720v720H120Zm60-500h600v-160H180v160Zm220 220h160v-160H400v160Zm0 220h160v-160H400v160ZM180-400h160v-160H180v160Zm440 0h160v-160H620v160ZM180-180h160v-160H180v160Zm440 0h160v-160H620v160Z\"/>\n",
              "  </svg>\n",
              "    </button>\n",
              "\n",
              "  <style>\n",
              "    .colab-df-container {\n",
              "      display:flex;\n",
              "      gap: 12px;\n",
              "    }\n",
              "\n",
              "    .colab-df-convert {\n",
              "      background-color: #E8F0FE;\n",
              "      border: none;\n",
              "      border-radius: 50%;\n",
              "      cursor: pointer;\n",
              "      display: none;\n",
              "      fill: #1967D2;\n",
              "      height: 32px;\n",
              "      padding: 0 0 0 0;\n",
              "      width: 32px;\n",
              "    }\n",
              "\n",
              "    .colab-df-convert:hover {\n",
              "      background-color: #E2EBFA;\n",
              "      box-shadow: 0px 1px 2px rgba(60, 64, 67, 0.3), 0px 1px 3px 1px rgba(60, 64, 67, 0.15);\n",
              "      fill: #174EA6;\n",
              "    }\n",
              "\n",
              "    .colab-df-buttons div {\n",
              "      margin-bottom: 4px;\n",
              "    }\n",
              "\n",
              "    [theme=dark] .colab-df-convert {\n",
              "      background-color: #3B4455;\n",
              "      fill: #D2E3FC;\n",
              "    }\n",
              "\n",
              "    [theme=dark] .colab-df-convert:hover {\n",
              "      background-color: #434B5C;\n",
              "      box-shadow: 0px 1px 3px 1px rgba(0, 0, 0, 0.15);\n",
              "      filter: drop-shadow(0px 1px 2px rgba(0, 0, 0, 0.3));\n",
              "      fill: #FFFFFF;\n",
              "    }\n",
              "  </style>\n",
              "\n",
              "    <script>\n",
              "      const buttonEl =\n",
              "        document.querySelector('#df-92e24e4c-cf84-405b-ab47-12ae21181d7e button.colab-df-convert');\n",
              "      buttonEl.style.display =\n",
              "        google.colab.kernel.accessAllowed ? 'block' : 'none';\n",
              "\n",
              "      async function convertToInteractive(key) {\n",
              "        const element = document.querySelector('#df-92e24e4c-cf84-405b-ab47-12ae21181d7e');\n",
              "        const dataTable =\n",
              "          await google.colab.kernel.invokeFunction('convertToInteractive',\n",
              "                                                    [key], {});\n",
              "        if (!dataTable) return;\n",
              "\n",
              "        const docLinkHtml = 'Like what you see? Visit the ' +\n",
              "          '<a target=\"_blank\" href=https://colab.research.google.com/notebooks/data_table.ipynb>data table notebook</a>'\n",
              "          + ' to learn more about interactive tables.';\n",
              "        element.innerHTML = '';\n",
              "        dataTable['output_type'] = 'display_data';\n",
              "        await google.colab.output.renderOutput(dataTable, element);\n",
              "        const docLink = document.createElement('div');\n",
              "        docLink.innerHTML = docLinkHtml;\n",
              "        element.appendChild(docLink);\n",
              "      }\n",
              "    </script>\n",
              "  </div>\n",
              "\n",
              "\n",
              "<div id=\"df-a4ab0b43-c2fc-4b21-bffc-015f7090414b\">\n",
              "  <button class=\"colab-df-quickchart\" onclick=\"quickchart('df-a4ab0b43-c2fc-4b21-bffc-015f7090414b')\"\n",
              "            title=\"Suggest charts.\"\n",
              "            style=\"display:none;\">\n",
              "\n",
              "<svg xmlns=\"http://www.w3.org/2000/svg\" height=\"24px\"viewBox=\"0 0 24 24\"\n",
              "     width=\"24px\">\n",
              "    <g>\n",
              "        <path d=\"M19 3H5c-1.1 0-2 .9-2 2v14c0 1.1.9 2 2 2h14c1.1 0 2-.9 2-2V5c0-1.1-.9-2-2-2zM9 17H7v-7h2v7zm4 0h-2V7h2v10zm4 0h-2v-4h2v4z\"/>\n",
              "    </g>\n",
              "</svg>\n",
              "  </button>\n",
              "\n",
              "<style>\n",
              "  .colab-df-quickchart {\n",
              "      --bg-color: #E8F0FE;\n",
              "      --fill-color: #1967D2;\n",
              "      --hover-bg-color: #E2EBFA;\n",
              "      --hover-fill-color: #174EA6;\n",
              "      --disabled-fill-color: #AAA;\n",
              "      --disabled-bg-color: #DDD;\n",
              "  }\n",
              "\n",
              "  [theme=dark] .colab-df-quickchart {\n",
              "      --bg-color: #3B4455;\n",
              "      --fill-color: #D2E3FC;\n",
              "      --hover-bg-color: #434B5C;\n",
              "      --hover-fill-color: #FFFFFF;\n",
              "      --disabled-bg-color: #3B4455;\n",
              "      --disabled-fill-color: #666;\n",
              "  }\n",
              "\n",
              "  .colab-df-quickchart {\n",
              "    background-color: var(--bg-color);\n",
              "    border: none;\n",
              "    border-radius: 50%;\n",
              "    cursor: pointer;\n",
              "    display: none;\n",
              "    fill: var(--fill-color);\n",
              "    height: 32px;\n",
              "    padding: 0;\n",
              "    width: 32px;\n",
              "  }\n",
              "\n",
              "  .colab-df-quickchart:hover {\n",
              "    background-color: var(--hover-bg-color);\n",
              "    box-shadow: 0 1px 2px rgba(60, 64, 67, 0.3), 0 1px 3px 1px rgba(60, 64, 67, 0.15);\n",
              "    fill: var(--button-hover-fill-color);\n",
              "  }\n",
              "\n",
              "  .colab-df-quickchart-complete:disabled,\n",
              "  .colab-df-quickchart-complete:disabled:hover {\n",
              "    background-color: var(--disabled-bg-color);\n",
              "    fill: var(--disabled-fill-color);\n",
              "    box-shadow: none;\n",
              "  }\n",
              "\n",
              "  .colab-df-spinner {\n",
              "    border: 2px solid var(--fill-color);\n",
              "    border-color: transparent;\n",
              "    border-bottom-color: var(--fill-color);\n",
              "    animation:\n",
              "      spin 1s steps(1) infinite;\n",
              "  }\n",
              "\n",
              "  @keyframes spin {\n",
              "    0% {\n",
              "      border-color: transparent;\n",
              "      border-bottom-color: var(--fill-color);\n",
              "      border-left-color: var(--fill-color);\n",
              "    }\n",
              "    20% {\n",
              "      border-color: transparent;\n",
              "      border-left-color: var(--fill-color);\n",
              "      border-top-color: var(--fill-color);\n",
              "    }\n",
              "    30% {\n",
              "      border-color: transparent;\n",
              "      border-left-color: var(--fill-color);\n",
              "      border-top-color: var(--fill-color);\n",
              "      border-right-color: var(--fill-color);\n",
              "    }\n",
              "    40% {\n",
              "      border-color: transparent;\n",
              "      border-right-color: var(--fill-color);\n",
              "      border-top-color: var(--fill-color);\n",
              "    }\n",
              "    60% {\n",
              "      border-color: transparent;\n",
              "      border-right-color: var(--fill-color);\n",
              "    }\n",
              "    80% {\n",
              "      border-color: transparent;\n",
              "      border-right-color: var(--fill-color);\n",
              "      border-bottom-color: var(--fill-color);\n",
              "    }\n",
              "    90% {\n",
              "      border-color: transparent;\n",
              "      border-bottom-color: var(--fill-color);\n",
              "    }\n",
              "  }\n",
              "</style>\n",
              "\n",
              "  <script>\n",
              "    async function quickchart(key) {\n",
              "      const quickchartButtonEl =\n",
              "        document.querySelector('#' + key + ' button');\n",
              "      quickchartButtonEl.disabled = true;  // To prevent multiple clicks.\n",
              "      quickchartButtonEl.classList.add('colab-df-spinner');\n",
              "      try {\n",
              "        const charts = await google.colab.kernel.invokeFunction(\n",
              "            'suggestCharts', [key], {});\n",
              "      } catch (error) {\n",
              "        console.error('Error during call to suggestCharts:', error);\n",
              "      }\n",
              "      quickchartButtonEl.classList.remove('colab-df-spinner');\n",
              "      quickchartButtonEl.classList.add('colab-df-quickchart-complete');\n",
              "    }\n",
              "    (() => {\n",
              "      let quickchartButtonEl =\n",
              "        document.querySelector('#df-a4ab0b43-c2fc-4b21-bffc-015f7090414b button');\n",
              "      quickchartButtonEl.style.display =\n",
              "        google.colab.kernel.accessAllowed ? 'block' : 'none';\n",
              "    })();\n",
              "  </script>\n",
              "</div>\n",
              "    </div>\n",
              "  </div>\n"
            ]
          },
          "metadata": {},
          "execution_count": 29
        }
      ]
    },
    {
      "cell_type": "code",
      "execution_count": null,
      "metadata": {
        "colab": {
          "base_uri": "https://localhost:8080/",
          "height": 161
        },
        "id": "2XVEAtzbUXng",
        "outputId": "45b089cf-c479-483d-f6e3-875e1ad26d21"
      },
      "outputs": [
        {
          "output_type": "display_data",
          "data": {
            "text/plain": [
              "<Figure size 1500x1000 with 6 Axes>"
            ],
            "image/png": "[encoded data removed]"
          },
          "metadata": {}
        }
      ],
      "source": [
        "fig = plt.figure(figsize=(15, 10)) # sets the size of the 4 plot with width as 10 and height as 10\n",
        "for i,columns in enumerate(df_feat.columns, 1):\n",
        "    ax = plt.subplot(6,3,i) # creates 3 subplots in one single row\n",
        "    sns.boxplot(data = df_feat, x=df_feat[columns]) # creates box plots for each feature in df_cont dataset\n",
        "    ax.set_xlabel(None) # removes the labels on x-axis\n",
        "    ax.set_title(f'Distribution of {columns}') # adds a title to each subplot\n",
        "    plt.tight_layout(w_pad=3) # adds padding between the subplots\n",
        "plt.show()"
      ]
    },
    {
      "cell_type": "markdown",
      "metadata": {
        "id": "Sytiyy5Xq2aM"
      },
      "source": [
        "boxplot di atas mengonfirmasi bahwa outlier yang dimiliki masing masing variabel tidak banyak"
      ]
    },
    {
      "cell_type": "markdown",
      "metadata": {
        "id": "rIgQhrroq3Ta"
      },
      "source": [
        "##Check the distribution of variables"
      ]
    },
    {
      "cell_type": "markdown",
      "metadata": {
        "id": "GRGWdhvIq5yj"
      },
      "source": [
        "Sekarang, saya akan memplot histogram untuk memeriksa distribusi guna mengetahui apakah normal atau miring."
      ]
    },
    {
      "cell_type": "code",
      "execution_count": null,
      "metadata": {
        "colab": {
          "base_uri": "https://localhost:8080/",
          "height": 783
        },
        "id": "zq78CITnq-di",
        "outputId": "0859dd35-c8e8-49cb-b3da-26346bd703a7"
      },
      "outputs": [
        {
          "output_type": "execute_result",
          "data": {
            "text/plain": [
              "array([[<Axes: title={'center': 'GENDER'}>,\n",
              "        <Axes: title={'center': 'UMUR'}>,\n",
              "        <Axes: title={'center': 'JUMLAH ANGGOTA'}>],\n",
              "       [<Axes: title={'center': 'PENGHASILAN'}>,\n",
              "        <Axes: title={'center': 'DaysLate'}>,\n",
              "        <Axes: title={'center': 'ALAMAT'}>],\n",
              "       [<Axes: title={'center': 'CHURN'}>, <Axes: >, <Axes: >]],\n",
              "      dtype=object)"
            ]
          },
          "metadata": {},
          "execution_count": 32
        },
        {
          "output_type": "display_data",
          "data": {
            "text/plain": [
              "<Figure size 800x800 with 9 Axes>"
            ],
            "image/png": "[encoded data removed]"
          },
          "metadata": {}
        }
      ],
      "source": [
        "#buat plot hist untuk masing masing kolom\n",
        "data_subset.hist(figsize=(8,8))"
      ]
    },
    {
      "cell_type": "code",
      "execution_count": null,
      "metadata": {
        "colab": {
          "base_uri": "https://localhost:8080/",
          "height": 504
        },
        "id": "kXxEb3bpUij1",
        "outputId": "2a7818af-b35b-4e01-8999-be4a7d9a0be0"
      },
      "outputs": [
        {
          "output_type": "execute_result",
          "data": {
            "text/plain": [
              "<Axes: >"
            ]
          },
          "metadata": {},
          "execution_count": 33
        },
        {
          "output_type": "display_data",
          "data": {
            "text/plain": [
              "<Figure size 600x400 with 2 Axes>"
            ],
            "image/png": "[encoded data removed]"
          },
          "metadata": {}
        }
      ],
      "source": [
        "data_subset.corr()\n",
        "corr = data_subset.corr()\n",
        "fig, ax = plt.subplots(figsize=(6,4))\n",
        "sns.heatmap(corr, annot=True, ax=ax)"
      ]
    },
    {
      "cell_type": "code",
      "execution_count": null,
      "metadata": {
        "id": "-51ZsHLs8Qa8"
      },
      "outputs": [],
      "source": [
        "##harusnya ada pengecekan data yang hilang disini"
      ]
    },
    {
      "cell_type": "markdown",
      "metadata": {
        "id": "6xMgIjqCsSmk"
      },
      "source": [
        "Dengan menggunakan matriks ini kita dapat dengan cepat menemukan pola hilangnya dataset.\n",
        "\n",
        "Dari visualisasi di atas kita dapat mengamati bahwa tidak ada pola khas yang menonjol. Sebenarnya tidak ada data yang hilang."
      ]
    },
    {
      "cell_type": "code",
      "execution_count": null,
      "metadata": {
        "colab": {
          "base_uri": "https://localhost:8080/",
          "height": 430
        },
        "id": "JdhEkVLH6MP7",
        "outputId": "370add23-6bda-44f5-99a2-a4cc6c990da2"
      },
      "outputs": [
        {
          "output_type": "display_data",
          "data": {
            "text/plain": [
              "<Figure size 1000x600 with 1 Axes>"
            ],
            "image/png": "[encoded data removed]"
          },
          "metadata": {}
        }
      ],
      "source": [
        "#menampilkan churn perbulan\n",
        "import pandas as pd\n",
        "import matplotlib.pyplot as plt\n",
        "\n",
        "# Membaca data churn per bulan (contoh data)\n",
        "data = pd.DataFrame({'PEMBAYARAAN BULAN': ['DESEMBER', 'JANUARI', 'FEBRUARI', 'MARET', 'APRIL', 'MEI', 'JUNI', 'JULI', 'AGUSTUS'],\n",
        "                     'CHURN': [3, 5, 1, 0, 4, 1, 0, 1, 0]})\n",
        "\n",
        "# Membuat plot churn per bulan\n",
        "plt.figure(figsize=(10, 6))\n",
        "plt.plot(data['PEMBAYARAAN BULAN'], data['CHURN'], marker='o', linestyle='-', color='b')\n",
        "plt.title('Churn per Bulan')\n",
        "plt.xlabel('Bulan')\n",
        "plt.ylabel('Jumlah Churn')\n",
        "plt.grid(True)\n",
        "plt.show()"
      ]
    },
    {
      "cell_type": "markdown",
      "metadata": {
        "id": "R7v7_jOHrV-V"
      },
      "source": [
        "##Declare feature vector and target variable"
      ]
    },
    {
      "cell_type": "code",
      "execution_count": null,
      "metadata": {
        "id": "bp72Dpw_rXsL"
      },
      "outputs": [],
      "source": [
        "X = data_subset.drop(['CHURN'], axis=1)\n",
        "\n",
        "y = data_subset['CHURN']"
      ]
    },
    {
      "cell_type": "markdown",
      "metadata": {
        "id": "ZPlXgXPXrYjM"
      },
      "source": [
        "##Split data into separate training and test set"
      ]
    },
    {
      "cell_type": "code",
      "execution_count": null,
      "metadata": {
        "id": "6NOS13qBrdTQ"
      },
      "outputs": [],
      "source": [
        "# split X and y into training and testing sets\n",
        "\n",
        "from sklearn.model_selection import train_test_split\n",
        "\n",
        "X_train, X_test, y_train, y_test = train_test_split(X, y, test_size = 0.25, random_state = 50)"
      ]
    },
    {
      "cell_type": "code",
      "execution_count": null,
      "metadata": {
        "colab": {
          "base_uri": "https://localhost:8080/"
        },
        "id": "1ekXEIV-rfEl",
        "outputId": "f249e309-652c-4fa1-f668-8af83aa7a632"
      },
      "outputs": [
        {
          "output_type": "execute_result",
          "data": {
            "text/plain": [
              "((1038, 6), (346, 6))"
            ]
          },
          "metadata": {},
          "execution_count": 38
        }
      ],
      "source": [
        "# check the shape of X_train and X_test\n",
        "\n",
        "X_train.shape, X_test.shape"
      ]
    },
    {
      "cell_type": "markdown",
      "metadata": {
        "id": "icwiQ516rjxI"
      },
      "source": [
        "##Feature Scaling"
      ]
    },
    {
      "cell_type": "code",
      "execution_count": null,
      "metadata": {
        "id": "pT5kHu7lrlrC"
      },
      "outputs": [],
      "source": [
        "cols = X_train.columns"
      ]
    },
    {
      "cell_type": "code",
      "execution_count": null,
      "metadata": {
        "id": "DnmO-gDSrneD"
      },
      "outputs": [],
      "source": [
        "from sklearn.preprocessing import StandardScaler\n",
        "\n",
        "scaler = StandardScaler()\n",
        "\n",
        "X_train = scaler.fit_transform(X_train)\n",
        "\n",
        "X_test = scaler.transform(X_test)"
      ]
    },
    {
      "cell_type": "code",
      "execution_count": null,
      "metadata": {
        "colab": {
          "base_uri": "https://localhost:8080/",
          "height": 424
        },
        "id": "7OkbKeqVrpVm",
        "outputId": "6a7a9323-5b7d-4975-cdee-33530ab5b81a"
      },
      "outputs": [
        {
          "output_type": "execute_result",
          "data": {
            "text/plain": [
              "             GENDER          UMUR JUMLAH ANGGOTA   PENGHASILAN      DaysLate  \\\n",
              "count  1.038000e+03  1.038000e+03   1.038000e+03  1.038000e+03  1.038000e+03   \n",
              "mean  -4.535015e-17  1.095249e-16  -1.317721e-16 -1.232155e-16 -6.160775e-17   \n",
              "std    1.000482e+00  1.000482e+00   1.000482e+00  1.000482e+00  1.000482e+00   \n",
              "min   -3.997206e-01 -5.004596e+00  -2.125730e+00 -1.907621e+00 -8.192870e-01   \n",
              "25%   -3.997206e-01 -6.888823e-01  -1.066945e+00 -7.049866e-01 -8.192870e-01   \n",
              "50%   -3.997206e-01 -1.494181e-01  -8.160190e-03 -8.139858e-02 -4.253309e-01   \n",
              "75%   -3.997206e-01  6.597783e-01   1.050624e+00  5.588927e-01  6.252187e-01   \n",
              "max    2.501748e+00  2.682769e+00   3.168194e+00  3.259252e+00  3.120274e+00   \n",
              "\n",
              "             ALAMAT  \n",
              "count  1.038000e+03  \n",
              "mean  -1.608647e-16  \n",
              "std    1.000482e+00  \n",
              "min   -2.423736e+00  \n",
              "25%   -7.386471e-01  \n",
              "50%   -7.386471e-01  \n",
              "75%    9.464423e-01  \n",
              "max    9.464423e-01  "
            ],
            "text/html": [
              "\n",
              "  <div id=\"df-a1b13dad-e3e1-4e86-9a4c-334adfb7a748\" class=\"colab-df-container\">\n",
              "    <div>\n",
              "<style scoped>\n",
              "    .dataframe tbody tr th:only-of-type {\n",
              "        vertical-align: middle;\n",
              "    }\n",
              "\n",
              "    .dataframe tbody tr th {\n",
              "        vertical-align: top;\n",
              "    }\n",
              "\n",
              "    .dataframe thead tr th {\n",
              "        text-align: left;\n",
              "    }\n",
              "</style>\n",
              "<table border=\"1\" class=\"dataframe\">\n",
              "  <thead>\n",
              "    <tr>\n",
              "      <th></th>\n",
              "      <th>GENDER</th>\n",
              "      <th>UMUR</th>\n",
              "      <th>JUMLAH ANGGOTA</th>\n",
              "      <th>PENGHASILAN</th>\n",
              "      <th>DaysLate</th>\n",
              "      <th>ALAMAT</th>\n",
              "    </tr>\n",
              "  </thead>\n",
              "  <tbody>\n",
              "    <tr>\n",
              "      <th>count</th>\n",
              "      <td>1.038000e+03</td>\n",
              "      <td>1.038000e+03</td>\n",
              "      <td>1.038000e+03</td>\n",
              "      <td>1.038000e+03</td>\n",
              "      <td>1.038000e+03</td>\n",
              "      <td>1.038000e+03</td>\n",
              "    </tr>\n",
              "    <tr>\n",
              "      <th>mean</th>\n",
              "      <td>-4.535015e-17</td>\n",
              "      <td>1.095249e-16</td>\n",
              "      <td>-1.317721e-16</td>\n",
              "      <td>-1.232155e-16</td>\n",
              "      <td>-6.160775e-17</td>\n",
              "      <td>-1.608647e-16</td>\n",
              "    </tr>\n",
              "    <tr>\n",
              "      <th>std</th>\n",
              "      <td>1.000482e+00</td>\n",
              "      <td>1.000482e+00</td>\n",
              "      <td>1.000482e+00</td>\n",
              "      <td>1.000482e+00</td>\n",
              "      <td>1.000482e+00</td>\n",
              "      <td>1.000482e+00</td>\n",
              "    </tr>\n",
              "    <tr>\n",
              "      <th>min</th>\n",
              "      <td>-3.997206e-01</td>\n",
              "      <td>-5.004596e+00</td>\n",
              "      <td>-2.125730e+00</td>\n",
              "      <td>-1.907621e+00</td>\n",
              "      <td>-8.192870e-01</td>\n",
              "      <td>-2.423736e+00</td>\n",
              "    </tr>\n",
              "    <tr>\n",
              "      <th>25%</th>\n",
              "      <td>-3.997206e-01</td>\n",
              "      <td>-6.888823e-01</td>\n",
              "      <td>-1.066945e+00</td>\n",
              "      <td>-7.049866e-01</td>\n",
              "      <td>-8.192870e-01</td>\n",
              "      <td>-7.386471e-01</td>\n",
              "    </tr>\n",
              "    <tr>\n",
              "      <th>50%</th>\n",
              "      <td>-3.997206e-01</td>\n",
              "      <td>-1.494181e-01</td>\n",
              "      <td>-8.160190e-03</td>\n",
              "      <td>-8.139858e-02</td>\n",
              "      <td>-4.253309e-01</td>\n",
              "      <td>-7.386471e-01</td>\n",
              "    </tr>\n",
              "    <tr>\n",
              "      <th>75%</th>\n",
              "      <td>-3.997206e-01</td>\n",
              "      <td>6.597783e-01</td>\n",
              "      <td>1.050624e+00</td>\n",
              "      <td>5.588927e-01</td>\n",
              "      <td>6.252187e-01</td>\n",
              "      <td>9.464423e-01</td>\n",
              "    </tr>\n",
              "    <tr>\n",
              "      <th>max</th>\n",
              "      <td>2.501748e+00</td>\n",
              "      <td>2.682769e+00</td>\n",
              "      <td>3.168194e+00</td>\n",
              "      <td>3.259252e+00</td>\n",
              "      <td>3.120274e+00</td>\n",
              "      <td>9.464423e-01</td>\n",
              "    </tr>\n",
              "  </tbody>\n",
              "</table>\n",
              "</div>\n",
              "    <div class=\"colab-df-buttons\">\n",
              "\n",
              "  <div class=\"colab-df-container\">\n",
              "    <button class=\"colab-df-convert\" onclick=\"convertToInteractive('df-a1b13dad-e3e1-4e86-9a4c-334adfb7a748')\"\n",
              "            title=\"Convert this dataframe to an interactive table.\"\n",
              "            style=\"display:none;\">\n",
              "\n",
              "  <svg xmlns=\"http://www.w3.org/2000/svg\" height=\"24px\" viewBox=\"0 -960 960 960\">\n",
              "    <path d=\"M120-120v-720h720v720H120Zm60-500h600v-160H180v160Zm220 220h160v-160H400v160Zm0 220h160v-160H400v160ZM180-400h160v-160H180v160Zm440 0h160v-160H620v160ZM180-180h160v-160H180v160Zm440 0h160v-160H620v160Z\"/>\n",
              "  </svg>\n",
              "    </button>\n",
              "\n",
              "  <style>\n",
              "    .colab-df-container {\n",
              "      display:flex;\n",
              "      gap: 12px;\n",
              "    }\n",
              "\n",
              "    .colab-df-convert {\n",
              "      background-color: #E8F0FE;\n",
              "      border: none;\n",
              "      border-radius: 50%;\n",
              "      cursor: pointer;\n",
              "      display: none;\n",
              "      fill: #1967D2;\n",
              "      height: 32px;\n",
              "      padding: 0 0 0 0;\n",
              "      width: 32px;\n",
              "    }\n",
              "\n",
              "    .colab-df-convert:hover {\n",
              "      background-color: #E2EBFA;\n",
              "      box-shadow: 0px 1px 2px rgba(60, 64, 67, 0.3), 0px 1px 3px 1px rgba(60, 64, 67, 0.15);\n",
              "      fill: #174EA6;\n",
              "    }\n",
              "\n",
              "    .colab-df-buttons div {\n",
              "      margin-bottom: 4px;\n",
              "    }\n",
              "\n",
              "    [theme=dark] .colab-df-convert {\n",
              "      background-color: #3B4455;\n",
              "      fill: #D2E3FC;\n",
              "    }\n",
              "\n",
              "    [theme=dark] .colab-df-convert:hover {\n",
              "      background-color: #434B5C;\n",
              "      box-shadow: 0px 1px 3px 1px rgba(0, 0, 0, 0.15);\n",
              "      filter: drop-shadow(0px 1px 2px rgba(0, 0, 0, 0.3));\n",
              "      fill: #FFFFFF;\n",
              "    }\n",
              "  </style>\n",
              "\n",
              "    <script>\n",
              "      const buttonEl =\n",
              "        document.querySelector('#df-a1b13dad-e3e1-4e86-9a4c-334adfb7a748 button.colab-df-convert');\n",
              "      buttonEl.style.display =\n",
              "        google.colab.kernel.accessAllowed ? 'block' : 'none';\n",
              "\n",
              "      async function convertToInteractive(key) {\n",
              "        const element = document.querySelector('#df-a1b13dad-e3e1-4e86-9a4c-334adfb7a748');\n",
              "        const dataTable =\n",
              "          await google.colab.kernel.invokeFunction('convertToInteractive',\n",
              "                                                    [key], {});\n",
              "        if (!dataTable) return;\n",
              "\n",
              "        const docLinkHtml = 'Like what you see? Visit the ' +\n",
              "          '<a target=\"_blank\" href=https://colab.research.google.com/notebooks/data_table.ipynb>data table notebook</a>'\n",
              "          + ' to learn more about interactive tables.';\n",
              "        element.innerHTML = '';\n",
              "        dataTable['output_type'] = 'display_data';\n",
              "        await google.colab.output.renderOutput(dataTable, element);\n",
              "        const docLink = document.createElement('div');\n",
              "        docLink.innerHTML = docLinkHtml;\n",
              "        element.appendChild(docLink);\n",
              "      }\n",
              "    </script>\n",
              "  </div>\n",
              "\n",
              "\n",
              "<div id=\"df-20e4949e-7499-48b6-a768-bdc98e37375f\">\n",
              "  <button class=\"colab-df-quickchart\" onclick=\"quickchart('df-20e4949e-7499-48b6-a768-bdc98e37375f')\"\n",
              "            title=\"Suggest charts.\"\n",
              "            style=\"display:none;\">\n",
              "\n",
              "<svg xmlns=\"http://www.w3.org/2000/svg\" height=\"24px\"viewBox=\"0 0 24 24\"\n",
              "     width=\"24px\">\n",
              "    <g>\n",
              "        <path d=\"M19 3H5c-1.1 0-2 .9-2 2v14c0 1.1.9 2 2 2h14c1.1 0 2-.9 2-2V5c0-1.1-.9-2-2-2zM9 17H7v-7h2v7zm4 0h-2V7h2v10zm4 0h-2v-4h2v4z\"/>\n",
              "    </g>\n",
              "</svg>\n",
              "  </button>\n",
              "\n",
              "<style>\n",
              "  .colab-df-quickchart {\n",
              "      --bg-color: #E8F0FE;\n",
              "      --fill-color: #1967D2;\n",
              "      --hover-bg-color: #E2EBFA;\n",
              "      --hover-fill-color: #174EA6;\n",
              "      --disabled-fill-color: #AAA;\n",
              "      --disabled-bg-color: #DDD;\n",
              "  }\n",
              "\n",
              "  [theme=dark] .colab-df-quickchart {\n",
              "      --bg-color: #3B4455;\n",
              "      --fill-color: #D2E3FC;\n",
              "      --hover-bg-color: #434B5C;\n",
              "      --hover-fill-color: #FFFFFF;\n",
              "      --disabled-bg-color: #3B4455;\n",
              "      --disabled-fill-color: #666;\n",
              "  }\n",
              "\n",
              "  .colab-df-quickchart {\n",
              "    background-color: var(--bg-color);\n",
              "    border: none;\n",
              "    border-radius: 50%;\n",
              "    cursor: pointer;\n",
              "    display: none;\n",
              "    fill: var(--fill-color);\n",
              "    height: 32px;\n",
              "    padding: 0;\n",
              "    width: 32px;\n",
              "  }\n",
              "\n",
              "  .colab-df-quickchart:hover {\n",
              "    background-color: var(--hover-bg-color);\n",
              "    box-shadow: 0 1px 2px rgba(60, 64, 67, 0.3), 0 1px 3px 1px rgba(60, 64, 67, 0.15);\n",
              "    fill: var(--button-hover-fill-color);\n",
              "  }\n",
              "\n",
              "  .colab-df-quickchart-complete:disabled,\n",
              "  .colab-df-quickchart-complete:disabled:hover {\n",
              "    background-color: var(--disabled-bg-color);\n",
              "    fill: var(--disabled-fill-color);\n",
              "    box-shadow: none;\n",
              "  }\n",
              "\n",
              "  .colab-df-spinner {\n",
              "    border: 2px solid var(--fill-color);\n",
              "    border-color: transparent;\n",
              "    border-bottom-color: var(--fill-color);\n",
              "    animation:\n",
              "      spin 1s steps(1) infinite;\n",
              "  }\n",
              "\n",
              "  @keyframes spin {\n",
              "    0% {\n",
              "      border-color: transparent;\n",
              "      border-bottom-color: var(--fill-color);\n",
              "      border-left-color: var(--fill-color);\n",
              "    }\n",
              "    20% {\n",
              "      border-color: transparent;\n",
              "      border-left-color: var(--fill-color);\n",
              "      border-top-color: var(--fill-color);\n",
              "    }\n",
              "    30% {\n",
              "      border-color: transparent;\n",
              "      border-left-color: var(--fill-color);\n",
              "      border-top-color: var(--fill-color);\n",
              "      border-right-color: var(--fill-color);\n",
              "    }\n",
              "    40% {\n",
              "      border-color: transparent;\n",
              "      border-right-color: var(--fill-color);\n",
              "      border-top-color: var(--fill-color);\n",
              "    }\n",
              "    60% {\n",
              "      border-color: transparent;\n",
              "      border-right-color: var(--fill-color);\n",
              "    }\n",
              "    80% {\n",
              "      border-color: transparent;\n",
              "      border-right-color: var(--fill-color);\n",
              "      border-bottom-color: var(--fill-color);\n",
              "    }\n",
              "    90% {\n",
              "      border-color: transparent;\n",
              "      border-bottom-color: var(--fill-color);\n",
              "    }\n",
              "  }\n",
              "</style>\n",
              "\n",
              "  <script>\n",
              "    async function quickchart(key) {\n",
              "      const quickchartButtonEl =\n",
              "        document.querySelector('#' + key + ' button');\n",
              "      quickchartButtonEl.disabled = true;  // To prevent multiple clicks.\n",
              "      quickchartButtonEl.classList.add('colab-df-spinner');\n",
              "      try {\n",
              "        const charts = await google.colab.kernel.invokeFunction(\n",
              "            'suggestCharts', [key], {});\n",
              "      } catch (error) {\n",
              "        console.error('Error during call to suggestCharts:', error);\n",
              "      }\n",
              "      quickchartButtonEl.classList.remove('colab-df-spinner');\n",
              "      quickchartButtonEl.classList.add('colab-df-quickchart-complete');\n",
              "    }\n",
              "    (() => {\n",
              "      let quickchartButtonEl =\n",
              "        document.querySelector('#df-20e4949e-7499-48b6-a768-bdc98e37375f button');\n",
              "      quickchartButtonEl.style.display =\n",
              "        google.colab.kernel.accessAllowed ? 'block' : 'none';\n",
              "    })();\n",
              "  </script>\n",
              "</div>\n",
              "    </div>\n",
              "  </div>\n"
            ]
          },
          "metadata": {},
          "execution_count": 41
        }
      ],
      "source": [
        "X_train = pd.DataFrame(X_train, columns=[cols])\n",
        "X_test = pd.DataFrame(X_test, columns=[cols])\n",
        "X_train.describe()"
      ]
    },
    {
      "cell_type": "markdown",
      "metadata": {
        "id": "e8Af4UgYU7xj"
      },
      "source": [
        "### **Data Processing**"
      ]
    },
    {
      "cell_type": "code",
      "execution_count": null,
      "metadata": {
        "id": "q6IEpZFy8jbY"
      },
      "outputs": [],
      "source": [
        "# from sklearn.model_selection import train_test_split\n",
        "# training_data, testing_data = train_test_split(df, test_size=0.3, random_state=25)"
      ]
    },
    {
      "cell_type": "code",
      "execution_count": null,
      "metadata": {
        "colab": {
          "base_uri": "https://localhost:8080/"
        },
        "id": "MCypPUTQVQFW",
        "outputId": "8e95e738-6201-4872-9dea-f013274be5c2"
      },
      "outputs": [
        {
          "output_type": "execute_result",
          "data": {
            "text/plain": [
              "2    674\n",
              "1    639\n",
              "0     71\n",
              "Name: ALAMAT, dtype: int64"
            ]
          },
          "metadata": {},
          "execution_count": 43
        }
      ],
      "source": [
        "data_subset['ALAMAT']. value_counts()"
      ]
    },
    {
      "cell_type": "code",
      "execution_count": null,
      "metadata": {
        "colab": {
          "base_uri": "https://localhost:8080/"
        },
        "id": "Funl9eXfDQdw",
        "outputId": "233c211e-bb80-4eef-8fb5-6d95b26b7acb"
      },
      "outputs": [
        {
          "output_type": "execute_result",
          "data": {
            "text/plain": [
              "0     531\n",
              "7     104\n",
              "30     65\n",
              "3      57\n",
              "2      50\n",
              "1      47\n",
              "14     46\n",
              "10     44\n",
              "16     44\n",
              "6      44\n",
              "5      42\n",
              "4      40\n",
              "17     40\n",
              "13     39\n",
              "12     39\n",
              "8      37\n",
              "15     35\n",
              "9      29\n",
              "11     25\n",
              "18      9\n",
              "19      9\n",
              "20      8\n",
              "Name: DaysLate, dtype: int64"
            ]
          },
          "metadata": {},
          "execution_count": 44
        }
      ],
      "source": [
        "data_subset['DaysLate']. value_counts()"
      ]
    },
    {
      "cell_type": "code",
      "execution_count": null,
      "metadata": {
        "id": "R-SPQBRAlHOK"
      },
      "outputs": [],
      "source": [
        "X_train, X_test, y_train, y_test = train_test_split(X, y, test_size=0.25, random_state=50)"
      ]
    },
    {
      "cell_type": "code",
      "execution_count": null,
      "metadata": {
        "id": "IGhNW__MmWUf"
      },
      "outputs": [],
      "source": [
        "from imblearn.over_sampling import RandomOverSampler\n",
        "# define oversampling strategy\n",
        "ros = RandomOverSampler(random_state=42)"
      ]
    },
    {
      "cell_type": "code",
      "execution_count": null,
      "metadata": {
        "id": "ovXcqueImfKn"
      },
      "outputs": [],
      "source": [
        "# fit and apply the transform\n",
        "X_over, y_over = ros.fit_resample(X_train, y_train)"
      ]
    },
    {
      "cell_type": "code",
      "execution_count": null,
      "metadata": {
        "colab": {
          "base_uri": "https://localhost:8080/"
        },
        "id": "8usNywwjmh79",
        "outputId": "6173d5fa-cf1b-4dd3-d7cc-96e2d3df29f1"
      },
      "outputs": [
        {
          "output_type": "stream",
          "name": "stdout",
          "text": [
            "Genuine: 1004 / 50.0 % of the dataset\n",
            "Frauds: 1004 / 50.0 % of the dataset\n"
          ]
        }
      ],
      "source": [
        "print('Genuine:', y_over.value_counts()[0], '/', round(y_over.value_counts()[0]/len(y_over) * 100,2), '% of the dataset')\n",
        "print('Frauds:', y_over.value_counts()[1], '/',round(y_over.value_counts()[1]/len(y_over) * 100,2), '% of the dataset')"
      ]
    },
    {
      "cell_type": "code",
      "execution_count": null,
      "metadata": {
        "colab": {
          "base_uri": "https://localhost:8080/",
          "height": 388
        },
        "id": "qmPGxVPammFL",
        "outputId": "d40b1b0d-2b4c-47d4-c438-6df0a8a632c3"
      },
      "outputs": [
        {
          "output_type": "display_data",
          "data": {
            "text/plain": [
              "<Figure size 600x400 with 1 Axes>"
            ],
            "image/png": "[encoded data removed]"
          },
          "metadata": {}
        }
      ],
      "source": [
        "import seaborn as sns\n",
        "import matplotlib.pyplot as plt\n",
        "\n",
        "# Data\n",
        "classes = ['0', '1']\n",
        "counts = [y_over.value_counts()[0], y_over.value_counts()[1]]\n",
        "\n",
        "# Membuat diagram batang dengan Seaborn\n",
        "sns.set_style('white')\n",
        "plt.figure(figsize=(6, 4))\n",
        "sns.barplot(x=classes, y=counts)\n",
        "plt.xlabel('CHURN')\n",
        "plt.ylabel('Count')\n",
        "plt.show()"
      ]
    },
    {
      "cell_type": "markdown",
      "metadata": {
        "id": "kW33qSd-lNko"
      },
      "source": [
        "### **Data Modeling**"
      ]
    },
    {
      "cell_type": "markdown",
      "metadata": {
        "id": "qMZ3LfeBsTWh"
      },
      "source": [
        "Run SVM with default hyperparameters"
      ]
    },
    {
      "cell_type": "markdown",
      "metadata": {
        "id": "9oaHF5ZolQ1K"
      },
      "source": [
        "SVM with kernel linear"
      ]
    },
    {
      "cell_type": "code",
      "execution_count": null,
      "metadata": {
        "id": "PcpWd0ellNOA"
      },
      "outputs": [],
      "source": [
        "svc = SVC(kernel='linear', C=1, probability=True, gamma=1)\n",
        "model=svc.fit(X_train, y_train)\n",
        "y_pred_dtc=model.predict(X_test)"
      ]
    },
    {
      "cell_type": "code",
      "execution_count": null,
      "metadata": {
        "id": "R2VbPB57lV8a"
      },
      "outputs": [],
      "source": [
        "cm = confusion_matrix(y_test,y_pred_dtc)\n",
        "print(\"Confusion Matrix: \\n\", cm)\n",
        "simpanaccuracy_linier = accuracy_score(y_test,y_pred_dtc)\n",
        "print(\"Accuracy: \", simpanaccuracy_linier)\n",
        "simpanf1score_linier = f1_score(y_test,y_pred_dtc)\n",
        "print(\"F1 Score: \", simpanf1score_linier)\n",
        "simpan_sensitivity_linier = recall_score(y_test,y_pred_dtc)\n",
        "print(\"Sensitivity: \", simpan_sensitivity_linier)\n",
        "print(classification_report(y_test,y_pred_dtc))\n",
        "\n",
        "\n",
        "plt.figure(figsize=(8,5))\n",
        "axis_labels = ['0', '1']\n",
        "g = sns.heatmap(data=cm, annot=True, cmap=\"Blues\", xticklabels=axis_labels, yticklabels=axis_labels, fmt='g', cbar_kws={\"shrink\": 0.5})\n",
        "p = plt.xlabel('Actual values')\n",
        "p = plt.ylabel('Predicted values')\n",
        "p = plt.title('--- Confusion Matrix for SVM model ---')"
      ]
    },
    {
      "cell_type": "code",
      "execution_count": null,
      "metadata": {
        "id": "ELG-iUuIk89k"
      },
      "outputs": [],
      "source": [
        "# Menampilkan bobot fitur\n",
        "feature_weights = svc.coef_\n",
        "print('Bobot Fitur:')\n",
        "print(feature_weights)\n",
        "\n",
        "# Menampilkan fitur paling berpengaruh (misalnya, yang memiliki bobot tertinggi)\n",
        "most_influential_features = X.columns[abs(feature_weights[0]) > 0.5]\n",
        "print('Fitur Paling Berpengaruh:')\n",
        "print(most_influential_features)"
      ]
    },
    {
      "cell_type": "code",
      "execution_count": null,
      "metadata": {
        "id": "JcZVIdjelcDu"
      },
      "outputs": [],
      "source": [
        "svc2 = SVC(kernel='rbf', C=5, probability=True)\n",
        "model2=svc2.fit(X_train, y_train)\n",
        "y_pred_dtc2=model2.predict(X_test)"
      ]
    },
    {
      "cell_type": "code",
      "execution_count": null,
      "metadata": {
        "id": "9lfKmATDle1U"
      },
      "outputs": [],
      "source": [
        "\n",
        "cm = confusion_matrix(y_test,y_pred_dtc2)\n",
        "print(\"Confusion Matrix: \\n\", cm)\n",
        "simpanaccuracy_rbf = accuracy_score(y_test,y_pred_dtc2)\n",
        "print(\"Accuracy: \", simpanaccuracy_rbf)\n",
        "simpanf1score_rbf = f1_score(y_test,y_pred_dtc2)\n",
        "print(\"F1 Score: \", simpanf1score_rbf)\n",
        "simpan_sensitivity_rbf = recall_score(y_test,y_pred_dtc2)\n",
        "print(\"Sensitivity: \", simpan_sensitivity_rbf)\n",
        "print(classification_report(y_test,y_pred_dtc2))\n",
        "\n",
        "\n",
        "plt.figure(figsize=(8,5))\n",
        "axis_labels = ['0', '1']\n",
        "g = sns.heatmap(data=cm, annot=True, cmap=\"Blues\", xticklabels=axis_labels, yticklabels=axis_labels, fmt='g', cbar_kws={\"shrink\": 0.5})\n",
        "p = plt.xlabel('Actual values')\n",
        "p = plt.ylabel('Predicted values')\n",
        "p = plt.title('--- Confusion Matrix for SVM model ---')"
      ]
    },
    {
      "cell_type": "code",
      "execution_count": null,
      "metadata": {
        "id": "0Qx7ld-hloO0"
      },
      "outputs": [],
      "source": [
        "#buat plot kekanan hasil accuracy, f1 score, sensitivity untuk masing masing model\n",
        "plot_data = [['Linear', simpanaccuracy_linier, simpanf1score_linier, simpan_sensitivity_linier], ['RBF', simpanaccuracy_rbf, simpanf1score_rbf, simpan_sensitivity_rbf]]\n",
        "\n",
        "plot_df = pd.DataFrame(plot_data, columns=['Model', 'Accuracy', 'F1 Score', 'Sensitivity'])\n",
        "\n",
        "plot_df.plot(x='Model', y=['Accuracy', 'F1 Score', 'Sensitivity'], kind='bar', figsize=(10, 5), title='--- Model Comparison ---')\n",
        "\n",
        "#['RFC', simpanaccuracy_rfc, simpanf1score_rfc, simpan_sensitivity_rfc]]"
      ]
    },
    {
      "cell_type": "markdown",
      "metadata": {
        "id": "iaNNur6kl05o"
      },
      "source": [
        "## **Hyperparameter Tunning**"
      ]
    },
    {
      "cell_type": "code",
      "execution_count": null,
      "metadata": {
        "id": "O1do0n0el2ml"
      },
      "outputs": [],
      "source": [
        "from sklearn.model_selection import GridSearchCV\n",
        "\n",
        "# defining parameter range\n",
        "param_grid = {'C': [10, 100, 1000],\n",
        "              'gamma': [1, 0.01, 0.001],\n",
        "              'kernel': ['rbf']}\n",
        "\n",
        "grid = GridSearchCV(model2, param_grid, refit = True, verbose = 3)\n",
        "\n",
        "# fitting the model for grid search\n",
        "model3=grid.fit(X_train, y_train)"
      ]
    },
    {
      "cell_type": "code",
      "execution_count": null,
      "metadata": {
        "id": "KFKj7a3lmB-g"
      },
      "outputs": [],
      "source": [
        "print(grid.best_params_)\n",
        "print(grid.best_estimator_)\n",
        "print(grid.best_score_)"
      ]
    },
    {
      "cell_type": "code",
      "execution_count": null,
      "metadata": {
        "id": "wjxFG93-mEts"
      },
      "outputs": [],
      "source": [
        "model3=grid.best_estimator_\n",
        "y_pred_dtc3=model3.predict(X_test)\n",
        "\n",
        "# print classification report\n",
        "print(classification_report(y_test, y_pred_dtc3))"
      ]
    },
    {
      "cell_type": "code",
      "execution_count": null,
      "metadata": {
        "id": "abK7Jm3imJEG"
      },
      "outputs": [],
      "source": [
        "# cross validation model 3\n",
        "from sklearn.model_selection import cross_val_score\n",
        "scores = cross_val_score(model3, X_train, y_train, cv=5)\n",
        "print(\"Cross-validation scores: {}\".format(scores))"
      ]
    }
  ],
  "metadata": {
    "colab": {
      "provenance": [],
      "include_colab_link": true
    },
    "kernelspec": {
      "display_name": "Python 3",
      "name": "python3"
    },
    "language_info": {
      "name": "python"
    }
  },
  "nbformat": 4,
  "nbformat_minor": 0
}